{
 "cells": [
  {
   "cell_type": "code",
   "execution_count": 1,
   "metadata": {
    "colab": {
     "base_uri": "https://localhost:8080/"
    },
    "executionInfo": {
     "elapsed": 20880,
     "status": "ok",
     "timestamp": 1658070487908,
     "user": {
      "displayName": "Romes Filho",
      "userId": "01290887687841314611"
     },
     "user_tz": 180
    },
    "id": "0gCU-iHTxf7R",
    "outputId": "7e151068-8498-4763-c4de-1258706863de"
   },
   "outputs": [
    {
     "name": "stdout",
     "output_type": "stream",
     "text": [
      "Mounted at /content/drive\n"
     ]
    }
   ],
   "source": []
  },
  {
   "cell_type": "code",
   "execution_count": 1,
   "metadata": {
    "executionInfo": {
     "elapsed": 1,
     "status": "ok",
     "timestamp": 1658070502890,
     "user": {
      "displayName": "Romes Filho",
      "userId": "01290887687841314611"
     },
     "user_tz": 180
    },
    "id": "tTbBhBHzyVHY"
   },
   "outputs": [],
   "source": [
    "import pandas as pd\n",
    "import numpy as np\n",
    "import matplotlib.pyplot as plt\n",
    "%matplotlib inline\n",
    "pd.set_option(\"display.max_columns\", 200)\n",
    "import warnings\n",
    "warnings.filterwarnings('ignore')"
   ]
  },
  {
   "cell_type": "code",
   "execution_count": 2,
   "metadata": {
    "executionInfo": {
     "elapsed": 4,
     "status": "ok",
     "timestamp": 1658070503326,
     "user": {
      "displayName": "Romes Filho",
      "userId": "01290887687841314611"
     },
     "user_tz": 180
    },
    "id": "cR3Ev6UY2gDf"
   },
   "outputs": [],
   "source": [
    "# Random Forest\n",
    "from sklearn.ensemble import RandomForestClassifier\n",
    "# Gradient Boosting\n",
    "from sklearn.ensemble import GradientBoostingClassifier\n",
    "# Redes Neurais\n",
    "from sklearn.neural_network import MLPClassifier\n",
    "from sklearn.model_selection import train_test_split\n",
    "from sklearn.preprocessing import StandardScaler, MaxAbsScaler\n",
    "from sklearn.metrics import classification_report \n",
    "from sklearn.metrics import accuracy_score\n",
    "from sklearn.model_selection import GridSearchCV\n",
    "from sklearn.metrics import accuracy_score\n",
    "from sklearn.metrics import precision_score\n",
    "from sklearn.metrics import recall_score\n",
    "from sklearn.metrics import f1_score\n",
    "from sklearn.preprocessing import LabelEncoder\n",
    "\n",
    "\n"
   ]
  },
  {
   "cell_type": "code",
   "execution_count": 3,
   "metadata": {
    "executionInfo": {
     "elapsed": 3,
     "status": "ok",
     "timestamp": 1658070503679,
     "user": {
      "displayName": "Romes Filho",
      "userId": "01290887687841314611"
     },
     "user_tz": 180
    },
    "id": "R3CqAiwDCXTi"
   },
   "outputs": [],
   "source": [
    "from sklearn.tree import DecisionTreeClassifier\n",
    "from sklearn.naive_bayes import GaussianNB\n",
    "from sklearn.linear_model import LogisticRegression\n",
    "from sklearn.neural_network import MLPClassifier\n",
    "from sklearn.preprocessing import StandardScaler, MinMaxScaler\n",
    "from sklearn.ensemble import RandomForestClassifier\n",
    "from sklearn.svm import LinearSVC\n",
    "from sklearn.neighbors import KNeighborsClassifier"
   ]
  },
  {
   "cell_type": "code",
   "execution_count": 4,
   "metadata": {
    "executionInfo": {
     "elapsed": 312,
     "status": "ok",
     "timestamp": 1658070511771,
     "user": {
      "displayName": "Romes Filho",
      "userId": "01290887687841314611"
     },
     "user_tz": 180
    },
    "id": "ZUQFCUlYypMm"
   },
   "outputs": [],
   "source": [
    "path  = '' # COLOCAR O CAMINHO CORRETO DOS ARQUIVOS ABAIXO"
   ]
  },
  {
   "cell_type": "code",
   "execution_count": 5,
   "metadata": {
    "colab": {
     "base_uri": "https://localhost:8080/"
    },
    "executionInfo": {
     "elapsed": 8997,
     "status": "ok",
     "timestamp": 1658070521116,
     "user": {
      "displayName": "Romes Filho",
      "userId": "01290887687841314611"
     },
     "user_tz": 180
    },
    "id": "K9k6rPnvytnn",
    "outputId": "06ac84bd-0f7f-43f6-96d1-0df1605ae4ac"
   },
   "outputs": [
    {
     "name": "stdout",
     "output_type": "stream",
     "text": [
      "(455503, 42) (380438, 41)\n"
     ]
    }
   ],
   "source": [
    "df = pd.read_csv(path + 'attack_dataset.csv.gz') # attack \n",
    "bonafide = pd.read_csv(path + 'bonafide_dataset_20191121.csv.gz') # bonafide traffic from mawilab\n",
    "bonafide = pd.concat([bonafide, pd.read_csv(path + 'bonafide_dataset_20201110.csv.gz')])\n",
    "bonafide = pd.concat([bonafide, pd.read_csv(path+ 'bonafide_dataset_20201129.csv.gz')])\n",
    "print(df.shape, bonafide.shape)\n",
    "\n"
   ]
  },
  {
   "cell_type": "code",
   "execution_count": null,
   "metadata": {
    "executionInfo": {
     "elapsed": 17,
     "status": "ok",
     "timestamp": 1658070521117,
     "user": {
      "displayName": "Romes Filho",
      "userId": "01290887687841314611"
     },
     "user_tz": 180
    },
    "id": "KL39ZYnmWfhB"
   },
   "outputs": [],
   "source": []
  },
  {
   "cell_type": "code",
   "execution_count": 6,
   "metadata": {
    "colab": {
     "base_uri": "https://localhost:8080/",
     "height": 179
    },
    "executionInfo": {
     "elapsed": 18,
     "status": "ok",
     "timestamp": 1658070521118,
     "user": {
      "displayName": "Romes Filho",
      "userId": "01290887687841314611"
     },
     "user_tz": 180
    },
    "id": "KEK5dbs10-Bi",
    "outputId": "4b795028-7fbd-4f2b-e94d-99965eb63cfc"
   },
   "outputs": [
    {
     "data": {
      "text/html": [
       "<div>\n",
       "<style scoped>\n",
       "    .dataframe tbody tr th:only-of-type {\n",
       "        vertical-align: middle;\n",
       "    }\n",
       "\n",
       "    .dataframe tbody tr th {\n",
       "        vertical-align: top;\n",
       "    }\n",
       "\n",
       "    .dataframe thead th {\n",
       "        text-align: right;\n",
       "    }\n",
       "</style>\n",
       "<table border=\"1\" class=\"dataframe\">\n",
       "  <thead>\n",
       "    <tr style=\"text-align: right;\">\n",
       "      <th></th>\n",
       "      <th>frame_info.encap_type</th>\n",
       "      <th>frame_info.time</th>\n",
       "      <th>frame_info.time_epoch</th>\n",
       "      <th>frame_info.number</th>\n",
       "      <th>frame_info.len</th>\n",
       "      <th>frame_info.cap_len</th>\n",
       "      <th>eth.type</th>\n",
       "      <th>ip.version</th>\n",
       "      <th>ip.hdr_len</th>\n",
       "      <th>ip.tos</th>\n",
       "      <th>ip.id</th>\n",
       "      <th>ip.flags</th>\n",
       "      <th>ip.flags.rb</th>\n",
       "      <th>ip.flags.df</th>\n",
       "      <th>ip.flags.mf</th>\n",
       "      <th>ip.frag_offset</th>\n",
       "      <th>ip.ttl</th>\n",
       "      <th>ip.proto</th>\n",
       "      <th>ip.checksum</th>\n",
       "      <th>ip.src</th>\n",
       "      <th>ip.dst</th>\n",
       "      <th>ip.len</th>\n",
       "      <th>ip.dsfield</th>\n",
       "      <th>tcp.srcport</th>\n",
       "      <th>tcp.dstport</th>\n",
       "      <th>tcp.seq</th>\n",
       "      <th>tcp.ack</th>\n",
       "      <th>tcp.len</th>\n",
       "      <th>tcp.hdr_len</th>\n",
       "      <th>tcp.flags</th>\n",
       "      <th>tcp.flags.fin</th>\n",
       "      <th>tcp.flags.syn</th>\n",
       "      <th>tcp.flags.reset</th>\n",
       "      <th>tcp.flags.push</th>\n",
       "      <th>tcp.flags.ack</th>\n",
       "      <th>tcp.flags.urg</th>\n",
       "      <th>tcp.flags.cwr</th>\n",
       "      <th>tcp.window_size</th>\n",
       "      <th>tcp.checksum</th>\n",
       "      <th>tcp.urgent_pointer</th>\n",
       "      <th>tcp.options.mss_val</th>\n",
       "      <th>label</th>\n",
       "    </tr>\n",
       "  </thead>\n",
       "  <tbody>\n",
       "    <tr>\n",
       "      <th>0</th>\n",
       "      <td>1</td>\n",
       "      <td>Sep  2, 2020 21:04:37.063530000 -03</td>\n",
       "      <td>1.599091e+09</td>\n",
       "      <td>1</td>\n",
       "      <td>74</td>\n",
       "      <td>74</td>\n",
       "      <td>0x00000800</td>\n",
       "      <td>4</td>\n",
       "      <td>20</td>\n",
       "      <td>NaN</td>\n",
       "      <td>0x00001b58</td>\n",
       "      <td>0x00000000</td>\n",
       "      <td>0</td>\n",
       "      <td>0</td>\n",
       "      <td>0</td>\n",
       "      <td>0</td>\n",
       "      <td>35</td>\n",
       "      <td>6</td>\n",
       "      <td>0x00003e78</td>\n",
       "      <td>179.241.213.24</td>\n",
       "      <td>172.26.8.200</td>\n",
       "      <td>60</td>\n",
       "      <td>0x00000000</td>\n",
       "      <td>1697</td>\n",
       "      <td>5802</td>\n",
       "      <td>0</td>\n",
       "      <td>0</td>\n",
       "      <td>0</td>\n",
       "      <td>40</td>\n",
       "      <td>0x00000002</td>\n",
       "      <td>0</td>\n",
       "      <td>1</td>\n",
       "      <td>0</td>\n",
       "      <td>0</td>\n",
       "      <td>0</td>\n",
       "      <td>0</td>\n",
       "      <td>0</td>\n",
       "      <td>64240</td>\n",
       "      <td>0x0000c9e9</td>\n",
       "      <td>0</td>\n",
       "      <td>1410.0</td>\n",
       "      <td>nmap_null</td>\n",
       "    </tr>\n",
       "  </tbody>\n",
       "</table>\n",
       "</div>"
      ],
      "text/plain": [
       "   frame_info.encap_type                      frame_info.time  \\\n",
       "0                      1  Sep  2, 2020 21:04:37.063530000 -03   \n",
       "\n",
       "   frame_info.time_epoch  frame_info.number  frame_info.len  \\\n",
       "0           1.599091e+09                  1              74   \n",
       "\n",
       "   frame_info.cap_len    eth.type  ip.version  ip.hdr_len  ip.tos       ip.id  \\\n",
       "0                  74  0x00000800           4          20     NaN  0x00001b58   \n",
       "\n",
       "     ip.flags  ip.flags.rb  ip.flags.df  ip.flags.mf  ip.frag_offset  ip.ttl  \\\n",
       "0  0x00000000            0            0            0               0      35   \n",
       "\n",
       "   ip.proto ip.checksum          ip.src        ip.dst  ip.len  ip.dsfield  \\\n",
       "0         6  0x00003e78  179.241.213.24  172.26.8.200      60  0x00000000   \n",
       "\n",
       "   tcp.srcport  tcp.dstport  tcp.seq  tcp.ack  tcp.len  tcp.hdr_len  \\\n",
       "0         1697         5802        0        0        0           40   \n",
       "\n",
       "    tcp.flags  tcp.flags.fin  tcp.flags.syn  tcp.flags.reset  tcp.flags.push  \\\n",
       "0  0x00000002              0              1                0               0   \n",
       "\n",
       "   tcp.flags.ack  tcp.flags.urg  tcp.flags.cwr  tcp.window_size tcp.checksum  \\\n",
       "0              0              0              0            64240   0x0000c9e9   \n",
       "\n",
       "   tcp.urgent_pointer  tcp.options.mss_val      label  \n",
       "0                   0               1410.0  nmap_null  "
      ]
     },
     "execution_count": 6,
     "metadata": {},
     "output_type": "execute_result"
    }
   ],
   "source": [
    "df.head(1)"
   ]
  },
  {
   "cell_type": "code",
   "execution_count": 7,
   "metadata": {
    "colab": {
     "base_uri": "https://localhost:8080/",
     "height": 179
    },
    "executionInfo": {
     "elapsed": 17,
     "status": "ok",
     "timestamp": 1658070521118,
     "user": {
      "displayName": "Romes Filho",
      "userId": "01290887687841314611"
     },
     "user_tz": 180
    },
    "id": "6InbOT4XzHDj",
    "outputId": "144c9a81-e1b9-4e90-92c9-64c4bff5520e"
   },
   "outputs": [
    {
     "data": {
      "text/html": [
       "<div>\n",
       "<style scoped>\n",
       "    .dataframe tbody tr th:only-of-type {\n",
       "        vertical-align: middle;\n",
       "    }\n",
       "\n",
       "    .dataframe tbody tr th {\n",
       "        vertical-align: top;\n",
       "    }\n",
       "\n",
       "    .dataframe thead th {\n",
       "        text-align: right;\n",
       "    }\n",
       "</style>\n",
       "<table border=\"1\" class=\"dataframe\">\n",
       "  <thead>\n",
       "    <tr style=\"text-align: right;\">\n",
       "      <th></th>\n",
       "      <th>frame_info.encap_type</th>\n",
       "      <th>frame_info.time</th>\n",
       "      <th>frame_info.time_epoch</th>\n",
       "      <th>frame_info.number</th>\n",
       "      <th>frame_info.len</th>\n",
       "      <th>frame_info.cap_len</th>\n",
       "      <th>eth.type</th>\n",
       "      <th>ip.version</th>\n",
       "      <th>ip.hdr_len</th>\n",
       "      <th>ip.tos</th>\n",
       "      <th>ip.id</th>\n",
       "      <th>ip.flags</th>\n",
       "      <th>ip.flags.rb</th>\n",
       "      <th>ip.flags.df</th>\n",
       "      <th>ip.flags.mf</th>\n",
       "      <th>ip.frag_offset</th>\n",
       "      <th>ip.ttl</th>\n",
       "      <th>ip.proto</th>\n",
       "      <th>ip.checksum</th>\n",
       "      <th>ip.src</th>\n",
       "      <th>ip.dst</th>\n",
       "      <th>ip.len</th>\n",
       "      <th>ip.dsfield</th>\n",
       "      <th>tcp.srcport</th>\n",
       "      <th>tcp.dstport</th>\n",
       "      <th>tcp.seq</th>\n",
       "      <th>tcp.ack</th>\n",
       "      <th>tcp.len</th>\n",
       "      <th>tcp.hdr_len</th>\n",
       "      <th>tcp.flags</th>\n",
       "      <th>tcp.flags.fin</th>\n",
       "      <th>tcp.flags.syn</th>\n",
       "      <th>tcp.flags.reset</th>\n",
       "      <th>tcp.flags.push</th>\n",
       "      <th>tcp.flags.ack</th>\n",
       "      <th>tcp.flags.urg</th>\n",
       "      <th>tcp.flags.cwr</th>\n",
       "      <th>tcp.window_size</th>\n",
       "      <th>tcp.checksum</th>\n",
       "      <th>tcp.urgent_pointer</th>\n",
       "      <th>tcp.options.mss_val</th>\n",
       "    </tr>\n",
       "  </thead>\n",
       "  <tbody>\n",
       "    <tr>\n",
       "      <th>0</th>\n",
       "      <td>1</td>\n",
       "      <td>Nov 21, 2019 02:00:00.309420000 -03</td>\n",
       "      <td>1.574312e+09</td>\n",
       "      <td>2</td>\n",
       "      <td>1474</td>\n",
       "      <td>74</td>\n",
       "      <td>0x000086dd</td>\n",
       "      <td>NaN</td>\n",
       "      <td>NaN</td>\n",
       "      <td>NaN</td>\n",
       "      <td>NaN</td>\n",
       "      <td>NaN</td>\n",
       "      <td>NaN</td>\n",
       "      <td>NaN</td>\n",
       "      <td>NaN</td>\n",
       "      <td>NaN</td>\n",
       "      <td>NaN</td>\n",
       "      <td>NaN</td>\n",
       "      <td>NaN</td>\n",
       "      <td>NaN</td>\n",
       "      <td>NaN</td>\n",
       "      <td>NaN</td>\n",
       "      <td>NaN</td>\n",
       "      <td>443.0</td>\n",
       "      <td>51883.0</td>\n",
       "      <td>1.0</td>\n",
       "      <td>1.0</td>\n",
       "      <td>1400.0</td>\n",
       "      <td>20.0</td>\n",
       "      <td>0x00000010</td>\n",
       "      <td>0.0</td>\n",
       "      <td>0.0</td>\n",
       "      <td>0.0</td>\n",
       "      <td>0.0</td>\n",
       "      <td>1.0</td>\n",
       "      <td>0.0</td>\n",
       "      <td>0.0</td>\n",
       "      <td>131.0</td>\n",
       "      <td>0x0000308f</td>\n",
       "      <td>0.0</td>\n",
       "      <td>NaN</td>\n",
       "    </tr>\n",
       "  </tbody>\n",
       "</table>\n",
       "</div>"
      ],
      "text/plain": [
       "   frame_info.encap_type                      frame_info.time  \\\n",
       "0                      1  Nov 21, 2019 02:00:00.309420000 -03   \n",
       "\n",
       "   frame_info.time_epoch  frame_info.number  frame_info.len  \\\n",
       "0           1.574312e+09                  2            1474   \n",
       "\n",
       "   frame_info.cap_len    eth.type  ip.version  ip.hdr_len  ip.tos ip.id  \\\n",
       "0                  74  0x000086dd         NaN         NaN     NaN   NaN   \n",
       "\n",
       "  ip.flags  ip.flags.rb  ip.flags.df  ip.flags.mf  ip.frag_offset  ip.ttl  \\\n",
       "0      NaN          NaN          NaN          NaN             NaN     NaN   \n",
       "\n",
       "   ip.proto ip.checksum ip.src ip.dst  ip.len ip.dsfield  tcp.srcport  \\\n",
       "0       NaN         NaN    NaN    NaN     NaN        NaN        443.0   \n",
       "\n",
       "   tcp.dstport  tcp.seq  tcp.ack  tcp.len  tcp.hdr_len   tcp.flags  \\\n",
       "0      51883.0      1.0      1.0   1400.0         20.0  0x00000010   \n",
       "\n",
       "   tcp.flags.fin  tcp.flags.syn  tcp.flags.reset  tcp.flags.push  \\\n",
       "0            0.0            0.0              0.0             0.0   \n",
       "\n",
       "   tcp.flags.ack  tcp.flags.urg  tcp.flags.cwr  tcp.window_size tcp.checksum  \\\n",
       "0            1.0            0.0            0.0            131.0   0x0000308f   \n",
       "\n",
       "   tcp.urgent_pointer  tcp.options.mss_val  \n",
       "0                 0.0                  NaN  "
      ]
     },
     "execution_count": 7,
     "metadata": {},
     "output_type": "execute_result"
    }
   ],
   "source": [
    "bonafide.head(1)"
   ]
  },
  {
   "cell_type": "code",
   "execution_count": 8,
   "metadata": {
    "executionInfo": {
     "elapsed": 16,
     "status": "ok",
     "timestamp": 1658070521118,
     "user": {
      "displayName": "Romes Filho",
      "userId": "01290887687841314611"
     },
     "user_tz": 180
    },
    "id": "aKVu_18308Dq"
   },
   "outputs": [],
   "source": [
    "bonafide['label'] = \"bonafide\" # label column in the bonafide dataset\n"
   ]
  },
  {
   "cell_type": "code",
   "execution_count": 9,
   "metadata": {
    "colab": {
     "base_uri": "https://localhost:8080/"
    },
    "executionInfo": {
     "elapsed": 16,
     "status": "ok",
     "timestamp": 1658070521118,
     "user": {
      "displayName": "Romes Filho",
      "userId": "01290887687841314611"
     },
     "user_tz": 180
    },
    "id": "m4UyT41o1EYN",
    "outputId": "f8c66dd1-6f54-4652-d8d5-5b84fbccab84"
   },
   "outputs": [
    {
     "name": "stdout",
     "output_type": "stream",
     "text": [
      "Total examples of 835941 with 0.54 of attack and 0.46 bonafide packets\n"
     ]
    }
   ],
   "source": [
    "if (df.columns == bonafide.columns).all():\n",
    "    examples_malicious = df.shape[0]\n",
    "    examples_legitim = bonafide.shape[0]\n",
    "    total = examples_malicious+examples_legitim\n",
    "    print('Total examples of {0} with {1:0.2f} of attack and {2:0.2f} bonafide packets'.format(total, examples_malicious/total, examples_legitim/total))"
   ]
  },
  {
   "cell_type": "code",
   "execution_count": 10,
   "metadata": {
    "colab": {
     "base_uri": "https://localhost:8080/"
    },
    "executionInfo": {
     "elapsed": 13,
     "status": "ok",
     "timestamp": 1658070521119,
     "user": {
      "displayName": "Romes Filho",
      "userId": "01290887687841314611"
     },
     "user_tz": 180
    },
    "id": "LDTcx-E41IPb",
    "outputId": "f47b7ac3-28a7-4dad-fafd-6cebeca6134a"
   },
   "outputs": [
    {
     "data": {
      "text/plain": [
       "zmap             74613\n",
       "nmap_connect     45882\n",
       "hping_syn        43750\n",
       "unicorn_syn      43039\n",
       "nmap_syn         40642\n",
       "unicorn_conn     39170\n",
       "masscan          21138\n",
       "nmap_ack         20497\n",
       "nmap_window      18851\n",
       "nmap_null        12511\n",
       "nmap_xmas        12505\n",
       "nmap_fin         12504\n",
       "hping_ack        11344\n",
       "nmap_maimon      10493\n",
       "unicorn_ack       8494\n",
       "hping_fin         7344\n",
       "hping_null        7344\n",
       "hping_xmas        7344\n",
       "unicorn_null      4690\n",
       "unicorn_xmas      4466\n",
       "unicorn_fxmas     4444\n",
       "unicorn_fin       4438\n",
       "Name: label, dtype: int64"
      ]
     },
     "execution_count": 10,
     "metadata": {},
     "output_type": "execute_result"
    }
   ],
   "source": [
    "df.label.value_counts()\n"
   ]
  },
  {
   "cell_type": "markdown",
   "metadata": {
    "id": "1e_LKdlw1RZa"
   },
   "source": [
    "Pré-processamento"
   ]
  },
  {
   "cell_type": "code",
   "execution_count": 11,
   "metadata": {
    "executionInfo": {
     "elapsed": 2354,
     "status": "ok",
     "timestamp": 1658070523463,
     "user": {
      "displayName": "Romes Filho",
      "userId": "01290887687841314611"
     },
     "user_tz": 180
    },
    "id": "Pt2iwO6F1J8k"
   },
   "outputs": [],
   "source": [
    "fields = ['eth.type', 'ip.id', 'ip.flags', 'ip.checksum', 'ip.dsfield', 'tcp.flags', 'tcp.checksum']\n",
    "\n",
    "for field in fields:\n",
    "    df[field] = df[field].apply(lambda x: int(str(x), 16))\n",
    "    "
   ]
  },
  {
   "cell_type": "code",
   "execution_count": 12,
   "metadata": {
    "executionInfo": {
     "elapsed": 1816,
     "status": "ok",
     "timestamp": 1658070525276,
     "user": {
      "displayName": "Romes Filho",
      "userId": "01290887687841314611"
     },
     "user_tz": 180
    },
    "id": "1qwGGoP21VnU"
   },
   "outputs": [],
   "source": [
    "bonafide = bonafide.fillna(0)\n",
    "for field in fields:\n",
    "    bonafide[field] = bonafide[field].apply(lambda x: int(str(x), 16))"
   ]
  },
  {
   "cell_type": "code",
   "execution_count": 13,
   "metadata": {
    "executionInfo": {
     "elapsed": 967,
     "status": "ok",
     "timestamp": 1658070526236,
     "user": {
      "displayName": "Romes Filho",
      "userId": "01290887687841314611"
     },
     "user_tz": 180
    },
    "id": "lFo_i52M1ZOZ"
   },
   "outputs": [],
   "source": [
    "full_data = pd.concat([bonafide, df])"
   ]
  },
  {
   "cell_type": "code",
   "execution_count": 14,
   "metadata": {
    "colab": {
     "base_uri": "https://localhost:8080/"
    },
    "executionInfo": {
     "elapsed": 13,
     "status": "ok",
     "timestamp": 1658070526237,
     "user": {
      "displayName": "Romes Filho",
      "userId": "01290887687841314611"
     },
     "user_tz": 180
    },
    "id": "jAfvBbbN1e70",
    "outputId": "27a87990-d77a-4207-edbb-827f1f508c12"
   },
   "outputs": [
    {
     "name": "stdout",
     "output_type": "stream",
     "text": [
      "Found and removed [52177] packets from the original dataset.\n"
     ]
    }
   ],
   "source": [
    "wrong_proto = full_data[full_data['ip.proto'] != 6]['label'].value_counts().values\n",
    "full_data = full_data[full_data['ip.proto'] == 6]\n",
    "print(\"Found and removed\", wrong_proto,\"packets from the original dataset.\")"
   ]
  },
  {
   "cell_type": "code",
   "execution_count": 15,
   "metadata": {
    "colab": {
     "base_uri": "https://localhost:8080/"
    },
    "executionInfo": {
     "elapsed": 10,
     "status": "ok",
     "timestamp": 1658070526237,
     "user": {
      "displayName": "Romes Filho",
      "userId": "01290887687841314611"
     },
     "user_tz": 180
    },
    "id": "MB1Gso7h1lQO",
    "outputId": "a487fef3-230d-4ebb-e2b5-65591476426d"
   },
   "outputs": [
    {
     "data": {
      "text/plain": [
       "bonafide         328261\n",
       "zmap              74613\n",
       "nmap_connect      45882\n",
       "hping_syn         43750\n",
       "unicorn_syn       43039\n",
       "nmap_syn          40642\n",
       "unicorn_conn      39170\n",
       "masscan           21138\n",
       "nmap_ack          20497\n",
       "nmap_window       18851\n",
       "nmap_null         12511\n",
       "nmap_xmas         12505\n",
       "nmap_fin          12504\n",
       "hping_ack         11344\n",
       "nmap_maimon       10493\n",
       "unicorn_ack        8494\n",
       "hping_fin          7344\n",
       "hping_null         7344\n",
       "hping_xmas         7344\n",
       "unicorn_null       4690\n",
       "unicorn_xmas       4466\n",
       "unicorn_fxmas      4444\n",
       "unicorn_fin        4438\n",
       "Name: label, dtype: int64"
      ]
     },
     "execution_count": 15,
     "metadata": {},
     "output_type": "execute_result"
    }
   ],
   "source": [
    "full_data.label.value_counts()\n"
   ]
  },
  {
   "cell_type": "code",
   "execution_count": 16,
   "metadata": {
    "executionInfo": {
     "elapsed": 8,
     "status": "ok",
     "timestamp": 1658070526238,
     "user": {
      "displayName": "Romes Filho",
      "userId": "01290887687841314611"
     },
     "user_tz": 180
    },
    "id": "lA5h3UwE1nCE"
   },
   "outputs": [],
   "source": [
    "full_data.drop(columns=['frame_info.time', 'frame_info.encap_type', 'frame_info.time_epoch', 'frame_info.number', \n",
    "                        'frame_info.len', 'frame_info.cap_len', 'eth.type', 'ip.flags', 'ip.src', 'ip.dst',\n",
    "                        'ip.version', 'ip.proto', 'tcp.flags'], axis=1, inplace=True)"
   ]
  },
  {
   "cell_type": "code",
   "execution_count": 17,
   "metadata": {
    "colab": {
     "base_uri": "https://localhost:8080/",
     "height": 927
    },
    "executionInfo": {
     "elapsed": 963,
     "status": "ok",
     "timestamp": 1658070527193,
     "user": {
      "displayName": "Romes Filho",
      "userId": "01290887687841314611"
     },
     "user_tz": 180
    },
    "id": "W_y2mmslP4SP",
    "outputId": "d37ce34c-12d7-4ac9-dbe6-6c64bc6911c6"
   },
   "outputs": [
    {
     "data": {
      "text/html": [
       "<div>\n",
       "<style scoped>\n",
       "    .dataframe tbody tr th:only-of-type {\n",
       "        vertical-align: middle;\n",
       "    }\n",
       "\n",
       "    .dataframe tbody tr th {\n",
       "        vertical-align: top;\n",
       "    }\n",
       "\n",
       "    .dataframe thead th {\n",
       "        text-align: right;\n",
       "    }\n",
       "</style>\n",
       "<table border=\"1\" class=\"dataframe\">\n",
       "  <thead>\n",
       "    <tr style=\"text-align: right;\">\n",
       "      <th></th>\n",
       "      <th>count</th>\n",
       "      <th>mean</th>\n",
       "      <th>std</th>\n",
       "      <th>min</th>\n",
       "      <th>25%</th>\n",
       "      <th>50%</th>\n",
       "      <th>75%</th>\n",
       "      <th>max</th>\n",
       "    </tr>\n",
       "  </thead>\n",
       "  <tbody>\n",
       "    <tr>\n",
       "      <th>ip.hdr_len</th>\n",
       "      <td>783764.0</td>\n",
       "      <td>2.000000e+01</td>\n",
       "      <td>0.000000e+00</td>\n",
       "      <td>20.0</td>\n",
       "      <td>20.0</td>\n",
       "      <td>20.0</td>\n",
       "      <td>20.0</td>\n",
       "      <td>2.000000e+01</td>\n",
       "    </tr>\n",
       "    <tr>\n",
       "      <th>ip.tos</th>\n",
       "      <td>328261.0</td>\n",
       "      <td>0.000000e+00</td>\n",
       "      <td>0.000000e+00</td>\n",
       "      <td>0.0</td>\n",
       "      <td>0.0</td>\n",
       "      <td>0.0</td>\n",
       "      <td>0.0</td>\n",
       "      <td>0.000000e+00</td>\n",
       "    </tr>\n",
       "    <tr>\n",
       "      <th>ip.id</th>\n",
       "      <td>783764.0</td>\n",
       "      <td>3.020374e+04</td>\n",
       "      <td>2.037583e+04</td>\n",
       "      <td>0.0</td>\n",
       "      <td>11779.0</td>\n",
       "      <td>29827.0</td>\n",
       "      <td>48693.0</td>\n",
       "      <td>6.553500e+04</td>\n",
       "    </tr>\n",
       "    <tr>\n",
       "      <th>ip.flags.rb</th>\n",
       "      <td>783764.0</td>\n",
       "      <td>0.000000e+00</td>\n",
       "      <td>0.000000e+00</td>\n",
       "      <td>0.0</td>\n",
       "      <td>0.0</td>\n",
       "      <td>0.0</td>\n",
       "      <td>0.0</td>\n",
       "      <td>0.000000e+00</td>\n",
       "    </tr>\n",
       "    <tr>\n",
       "      <th>ip.flags.df</th>\n",
       "      <td>783764.0</td>\n",
       "      <td>6.453920e-01</td>\n",
       "      <td>4.783947e-01</td>\n",
       "      <td>0.0</td>\n",
       "      <td>0.0</td>\n",
       "      <td>1.0</td>\n",
       "      <td>1.0</td>\n",
       "      <td>1.000000e+00</td>\n",
       "    </tr>\n",
       "    <tr>\n",
       "      <th>ip.flags.mf</th>\n",
       "      <td>783764.0</td>\n",
       "      <td>2.551789e-06</td>\n",
       "      <td>1.597431e-03</td>\n",
       "      <td>0.0</td>\n",
       "      <td>0.0</td>\n",
       "      <td>0.0</td>\n",
       "      <td>0.0</td>\n",
       "      <td>1.000000e+00</td>\n",
       "    </tr>\n",
       "    <tr>\n",
       "      <th>ip.frag_offset</th>\n",
       "      <td>783764.0</td>\n",
       "      <td>0.000000e+00</td>\n",
       "      <td>0.000000e+00</td>\n",
       "      <td>0.0</td>\n",
       "      <td>0.0</td>\n",
       "      <td>0.0</td>\n",
       "      <td>0.0</td>\n",
       "      <td>0.000000e+00</td>\n",
       "    </tr>\n",
       "    <tr>\n",
       "      <th>ip.ttl</th>\n",
       "      <td>783764.0</td>\n",
       "      <td>7.956949e+01</td>\n",
       "      <td>7.830542e+01</td>\n",
       "      <td>1.0</td>\n",
       "      <td>34.0</td>\n",
       "      <td>41.0</td>\n",
       "      <td>61.0</td>\n",
       "      <td>2.540000e+02</td>\n",
       "    </tr>\n",
       "    <tr>\n",
       "      <th>ip.checksum</th>\n",
       "      <td>783764.0</td>\n",
       "      <td>3.278110e+04</td>\n",
       "      <td>1.870863e+04</td>\n",
       "      <td>0.0</td>\n",
       "      <td>17178.0</td>\n",
       "      <td>32137.0</td>\n",
       "      <td>49056.0</td>\n",
       "      <td>6.553400e+04</td>\n",
       "    </tr>\n",
       "    <tr>\n",
       "      <th>ip.len</th>\n",
       "      <td>783764.0</td>\n",
       "      <td>1.802764e+02</td>\n",
       "      <td>4.113036e+02</td>\n",
       "      <td>40.0</td>\n",
       "      <td>40.0</td>\n",
       "      <td>52.0</td>\n",
       "      <td>60.0</td>\n",
       "      <td>8.289000e+03</td>\n",
       "    </tr>\n",
       "    <tr>\n",
       "      <th>ip.dsfield</th>\n",
       "      <td>783764.0</td>\n",
       "      <td>3.132230e+00</td>\n",
       "      <td>9.683930e+00</td>\n",
       "      <td>0.0</td>\n",
       "      <td>0.0</td>\n",
       "      <td>0.0</td>\n",
       "      <td>0.0</td>\n",
       "      <td>2.240000e+02</td>\n",
       "    </tr>\n",
       "    <tr>\n",
       "      <th>tcp.srcport</th>\n",
       "      <td>783764.0</td>\n",
       "      <td>3.758619e+04</td>\n",
       "      <td>2.068278e+04</td>\n",
       "      <td>0.0</td>\n",
       "      <td>19750.0</td>\n",
       "      <td>43990.0</td>\n",
       "      <td>53704.0</td>\n",
       "      <td>6.553400e+04</td>\n",
       "    </tr>\n",
       "    <tr>\n",
       "      <th>tcp.dstport</th>\n",
       "      <td>783764.0</td>\n",
       "      <td>1.091570e+04</td>\n",
       "      <td>1.871065e+04</td>\n",
       "      <td>0.0</td>\n",
       "      <td>80.0</td>\n",
       "      <td>892.0</td>\n",
       "      <td>9101.0</td>\n",
       "      <td>6.553500e+04</td>\n",
       "    </tr>\n",
       "    <tr>\n",
       "      <th>tcp.seq</th>\n",
       "      <td>783764.0</td>\n",
       "      <td>8.771130e+06</td>\n",
       "      <td>1.011235e+08</td>\n",
       "      <td>0.0</td>\n",
       "      <td>0.0</td>\n",
       "      <td>0.0</td>\n",
       "      <td>1.0</td>\n",
       "      <td>4.294967e+09</td>\n",
       "    </tr>\n",
       "    <tr>\n",
       "      <th>tcp.ack</th>\n",
       "      <td>783764.0</td>\n",
       "      <td>2.909447e+07</td>\n",
       "      <td>2.150445e+08</td>\n",
       "      <td>0.0</td>\n",
       "      <td>0.0</td>\n",
       "      <td>0.0</td>\n",
       "      <td>1.0</td>\n",
       "      <td>4.294967e+09</td>\n",
       "    </tr>\n",
       "    <tr>\n",
       "      <th>tcp.len</th>\n",
       "      <td>783764.0</td>\n",
       "      <td>1.305251e+02</td>\n",
       "      <td>4.115994e+02</td>\n",
       "      <td>0.0</td>\n",
       "      <td>0.0</td>\n",
       "      <td>0.0</td>\n",
       "      <td>0.0</td>\n",
       "      <td>8.237000e+03</td>\n",
       "    </tr>\n",
       "    <tr>\n",
       "      <th>tcp.hdr_len</th>\n",
       "      <td>783764.0</td>\n",
       "      <td>2.974759e+01</td>\n",
       "      <td>9.062705e+00</td>\n",
       "      <td>20.0</td>\n",
       "      <td>20.0</td>\n",
       "      <td>32.0</td>\n",
       "      <td>40.0</td>\n",
       "      <td>6.000000e+01</td>\n",
       "    </tr>\n",
       "    <tr>\n",
       "      <th>tcp.flags.fin</th>\n",
       "      <td>783764.0</td>\n",
       "      <td>8.288847e-02</td>\n",
       "      <td>2.757137e-01</td>\n",
       "      <td>0.0</td>\n",
       "      <td>0.0</td>\n",
       "      <td>0.0</td>\n",
       "      <td>0.0</td>\n",
       "      <td>1.000000e+00</td>\n",
       "    </tr>\n",
       "    <tr>\n",
       "      <th>tcp.flags.syn</th>\n",
       "      <td>783764.0</td>\n",
       "      <td>5.525719e-01</td>\n",
       "      <td>4.972288e-01</td>\n",
       "      <td>0.0</td>\n",
       "      <td>0.0</td>\n",
       "      <td>1.0</td>\n",
       "      <td>1.0</td>\n",
       "      <td>1.000000e+00</td>\n",
       "    </tr>\n",
       "    <tr>\n",
       "      <th>tcp.flags.reset</th>\n",
       "      <td>783764.0</td>\n",
       "      <td>5.234867e-02</td>\n",
       "      <td>2.227293e-01</td>\n",
       "      <td>0.0</td>\n",
       "      <td>0.0</td>\n",
       "      <td>0.0</td>\n",
       "      <td>0.0</td>\n",
       "      <td>1.000000e+00</td>\n",
       "    </tr>\n",
       "    <tr>\n",
       "      <th>tcp.flags.push</th>\n",
       "      <td>783764.0</td>\n",
       "      <td>6.570983e-02</td>\n",
       "      <td>2.477743e-01</td>\n",
       "      <td>0.0</td>\n",
       "      <td>0.0</td>\n",
       "      <td>0.0</td>\n",
       "      <td>0.0</td>\n",
       "      <td>1.000000e+00</td>\n",
       "    </tr>\n",
       "    <tr>\n",
       "      <th>tcp.flags.ack</th>\n",
       "      <td>783764.0</td>\n",
       "      <td>3.681886e-01</td>\n",
       "      <td>4.823132e-01</td>\n",
       "      <td>0.0</td>\n",
       "      <td>0.0</td>\n",
       "      <td>0.0</td>\n",
       "      <td>1.0</td>\n",
       "      <td>1.000000e+00</td>\n",
       "    </tr>\n",
       "    <tr>\n",
       "      <th>tcp.flags.urg</th>\n",
       "      <td>783764.0</td>\n",
       "      <td>1.404122e-02</td>\n",
       "      <td>1.176609e-01</td>\n",
       "      <td>0.0</td>\n",
       "      <td>0.0</td>\n",
       "      <td>0.0</td>\n",
       "      <td>0.0</td>\n",
       "      <td>1.000000e+00</td>\n",
       "    </tr>\n",
       "    <tr>\n",
       "      <th>tcp.flags.cwr</th>\n",
       "      <td>783764.0</td>\n",
       "      <td>5.016816e-03</td>\n",
       "      <td>7.065164e-02</td>\n",
       "      <td>0.0</td>\n",
       "      <td>0.0</td>\n",
       "      <td>0.0</td>\n",
       "      <td>0.0</td>\n",
       "      <td>1.000000e+00</td>\n",
       "    </tr>\n",
       "    <tr>\n",
       "      <th>tcp.window_size</th>\n",
       "      <td>783764.0</td>\n",
       "      <td>3.169473e+04</td>\n",
       "      <td>7.277133e+04</td>\n",
       "      <td>0.0</td>\n",
       "      <td>1024.0</td>\n",
       "      <td>16384.0</td>\n",
       "      <td>64240.0</td>\n",
       "      <td>1.677696e+07</td>\n",
       "    </tr>\n",
       "    <tr>\n",
       "      <th>tcp.checksum</th>\n",
       "      <td>783764.0</td>\n",
       "      <td>3.274617e+04</td>\n",
       "      <td>1.899454e+04</td>\n",
       "      <td>0.0</td>\n",
       "      <td>16309.0</td>\n",
       "      <td>32605.5</td>\n",
       "      <td>49283.0</td>\n",
       "      <td>6.553400e+04</td>\n",
       "    </tr>\n",
       "    <tr>\n",
       "      <th>tcp.urgent_pointer</th>\n",
       "      <td>783764.0</td>\n",
       "      <td>5.437262e-01</td>\n",
       "      <td>1.588472e+02</td>\n",
       "      <td>0.0</td>\n",
       "      <td>0.0</td>\n",
       "      <td>0.0</td>\n",
       "      <td>0.0</td>\n",
       "      <td>6.444700e+04</td>\n",
       "    </tr>\n",
       "    <tr>\n",
       "      <th>tcp.options.mss_val</th>\n",
       "      <td>592683.0</td>\n",
       "      <td>7.375237e+02</td>\n",
       "      <td>7.217995e+02</td>\n",
       "      <td>0.0</td>\n",
       "      <td>0.0</td>\n",
       "      <td>1240.0</td>\n",
       "      <td>1440.0</td>\n",
       "      <td>9.176000e+03</td>\n",
       "    </tr>\n",
       "  </tbody>\n",
       "</table>\n",
       "</div>"
      ],
      "text/plain": [
       "                        count          mean           std   min      25%  \\\n",
       "ip.hdr_len           783764.0  2.000000e+01  0.000000e+00  20.0     20.0   \n",
       "ip.tos               328261.0  0.000000e+00  0.000000e+00   0.0      0.0   \n",
       "ip.id                783764.0  3.020374e+04  2.037583e+04   0.0  11779.0   \n",
       "ip.flags.rb          783764.0  0.000000e+00  0.000000e+00   0.0      0.0   \n",
       "ip.flags.df          783764.0  6.453920e-01  4.783947e-01   0.0      0.0   \n",
       "ip.flags.mf          783764.0  2.551789e-06  1.597431e-03   0.0      0.0   \n",
       "ip.frag_offset       783764.0  0.000000e+00  0.000000e+00   0.0      0.0   \n",
       "ip.ttl               783764.0  7.956949e+01  7.830542e+01   1.0     34.0   \n",
       "ip.checksum          783764.0  3.278110e+04  1.870863e+04   0.0  17178.0   \n",
       "ip.len               783764.0  1.802764e+02  4.113036e+02  40.0     40.0   \n",
       "ip.dsfield           783764.0  3.132230e+00  9.683930e+00   0.0      0.0   \n",
       "tcp.srcport          783764.0  3.758619e+04  2.068278e+04   0.0  19750.0   \n",
       "tcp.dstport          783764.0  1.091570e+04  1.871065e+04   0.0     80.0   \n",
       "tcp.seq              783764.0  8.771130e+06  1.011235e+08   0.0      0.0   \n",
       "tcp.ack              783764.0  2.909447e+07  2.150445e+08   0.0      0.0   \n",
       "tcp.len              783764.0  1.305251e+02  4.115994e+02   0.0      0.0   \n",
       "tcp.hdr_len          783764.0  2.974759e+01  9.062705e+00  20.0     20.0   \n",
       "tcp.flags.fin        783764.0  8.288847e-02  2.757137e-01   0.0      0.0   \n",
       "tcp.flags.syn        783764.0  5.525719e-01  4.972288e-01   0.0      0.0   \n",
       "tcp.flags.reset      783764.0  5.234867e-02  2.227293e-01   0.0      0.0   \n",
       "tcp.flags.push       783764.0  6.570983e-02  2.477743e-01   0.0      0.0   \n",
       "tcp.flags.ack        783764.0  3.681886e-01  4.823132e-01   0.0      0.0   \n",
       "tcp.flags.urg        783764.0  1.404122e-02  1.176609e-01   0.0      0.0   \n",
       "tcp.flags.cwr        783764.0  5.016816e-03  7.065164e-02   0.0      0.0   \n",
       "tcp.window_size      783764.0  3.169473e+04  7.277133e+04   0.0   1024.0   \n",
       "tcp.checksum         783764.0  3.274617e+04  1.899454e+04   0.0  16309.0   \n",
       "tcp.urgent_pointer   783764.0  5.437262e-01  1.588472e+02   0.0      0.0   \n",
       "tcp.options.mss_val  592683.0  7.375237e+02  7.217995e+02   0.0      0.0   \n",
       "\n",
       "                         50%      75%           max  \n",
       "ip.hdr_len              20.0     20.0  2.000000e+01  \n",
       "ip.tos                   0.0      0.0  0.000000e+00  \n",
       "ip.id                29827.0  48693.0  6.553500e+04  \n",
       "ip.flags.rb              0.0      0.0  0.000000e+00  \n",
       "ip.flags.df              1.0      1.0  1.000000e+00  \n",
       "ip.flags.mf              0.0      0.0  1.000000e+00  \n",
       "ip.frag_offset           0.0      0.0  0.000000e+00  \n",
       "ip.ttl                  41.0     61.0  2.540000e+02  \n",
       "ip.checksum          32137.0  49056.0  6.553400e+04  \n",
       "ip.len                  52.0     60.0  8.289000e+03  \n",
       "ip.dsfield               0.0      0.0  2.240000e+02  \n",
       "tcp.srcport          43990.0  53704.0  6.553400e+04  \n",
       "tcp.dstport            892.0   9101.0  6.553500e+04  \n",
       "tcp.seq                  0.0      1.0  4.294967e+09  \n",
       "tcp.ack                  0.0      1.0  4.294967e+09  \n",
       "tcp.len                  0.0      0.0  8.237000e+03  \n",
       "tcp.hdr_len             32.0     40.0  6.000000e+01  \n",
       "tcp.flags.fin            0.0      0.0  1.000000e+00  \n",
       "tcp.flags.syn            1.0      1.0  1.000000e+00  \n",
       "tcp.flags.reset          0.0      0.0  1.000000e+00  \n",
       "tcp.flags.push           0.0      0.0  1.000000e+00  \n",
       "tcp.flags.ack            0.0      1.0  1.000000e+00  \n",
       "tcp.flags.urg            0.0      0.0  1.000000e+00  \n",
       "tcp.flags.cwr            0.0      0.0  1.000000e+00  \n",
       "tcp.window_size      16384.0  64240.0  1.677696e+07  \n",
       "tcp.checksum         32605.5  49283.0  6.553400e+04  \n",
       "tcp.urgent_pointer       0.0      0.0  6.444700e+04  \n",
       "tcp.options.mss_val   1240.0   1440.0  9.176000e+03  "
      ]
     },
     "execution_count": 17,
     "metadata": {},
     "output_type": "execute_result"
    }
   ],
   "source": [
    "full_data.describe().T"
   ]
  },
  {
   "cell_type": "code",
   "execution_count": 18,
   "metadata": {
    "colab": {
     "base_uri": "https://localhost:8080/"
    },
    "executionInfo": {
     "elapsed": 15,
     "status": "ok",
     "timestamp": 1658070527194,
     "user": {
      "displayName": "Romes Filho",
      "userId": "01290887687841314611"
     },
     "user_tz": 180
    },
    "id": "OQsKd94dP6mx",
    "outputId": "e02cedb0-a15a-4280-be01-9a541b8b04bc"
   },
   "outputs": [
    {
     "data": {
      "text/plain": [
       "ip.hdr_len              True\n",
       "ip.tos                  True\n",
       "ip.id                  False\n",
       "ip.flags.rb             True\n",
       "ip.flags.df            False\n",
       "ip.flags.mf            False\n",
       "ip.frag_offset          True\n",
       "ip.ttl                 False\n",
       "ip.checksum            False\n",
       "ip.len                 False\n",
       "ip.dsfield             False\n",
       "tcp.srcport            False\n",
       "tcp.dstport            False\n",
       "tcp.seq                False\n",
       "tcp.ack                False\n",
       "tcp.len                False\n",
       "tcp.hdr_len            False\n",
       "tcp.flags.fin          False\n",
       "tcp.flags.syn          False\n",
       "tcp.flags.reset        False\n",
       "tcp.flags.push         False\n",
       "tcp.flags.ack          False\n",
       "tcp.flags.urg          False\n",
       "tcp.flags.cwr          False\n",
       "tcp.window_size        False\n",
       "tcp.checksum           False\n",
       "tcp.urgent_pointer     False\n",
       "tcp.options.mss_val    False\n",
       "dtype: bool"
      ]
     },
     "execution_count": 18,
     "metadata": {},
     "output_type": "execute_result"
    }
   ],
   "source": [
    "# check features with zero variance, they do not support the learning task\n",
    "(full_data.var() == 0)"
   ]
  },
  {
   "cell_type": "markdown",
   "metadata": {
    "id": "UKIIHUPjQBdM"
   },
   "source": [
    "Remover as colunas com variância zero"
   ]
  },
  {
   "cell_type": "code",
   "execution_count": 19,
   "metadata": {
    "executionInfo": {
     "elapsed": 12,
     "status": "ok",
     "timestamp": 1658070527194,
     "user": {
      "displayName": "Romes Filho",
      "userId": "01290887687841314611"
     },
     "user_tz": 180
    },
    "id": "_SjdGJy6P_pg"
   },
   "outputs": [],
   "source": [
    "full_data.drop(columns=['ip.hdr_len', 'ip.tos', 'ip.flags.rb', \n",
    "                        'ip.flags.mf', 'ip.frag_offset'], axis=1, inplace=True)"
   ]
  },
  {
   "cell_type": "code",
   "execution_count": 20,
   "metadata": {
    "colab": {
     "base_uri": "https://localhost:8080/"
    },
    "executionInfo": {
     "elapsed": 11,
     "status": "ok",
     "timestamp": 1658070527194,
     "user": {
      "displayName": "Romes Filho",
      "userId": "01290887687841314611"
     },
     "user_tz": 180
    },
    "id": "TGGdmTKHQIvz",
    "outputId": "a3e15f94-bb8d-459e-9fc0-0f7c0c7a6f81"
   },
   "outputs": [
    {
     "data": {
      "text/plain": [
       "Index(['ip.id', 'ip.flags.df', 'ip.ttl', 'ip.checksum', 'ip.len', 'ip.dsfield',\n",
       "       'tcp.srcport', 'tcp.dstport', 'tcp.seq', 'tcp.ack', 'tcp.len',\n",
       "       'tcp.hdr_len', 'tcp.flags.fin', 'tcp.flags.syn', 'tcp.flags.reset',\n",
       "       'tcp.flags.push', 'tcp.flags.ack', 'tcp.flags.urg', 'tcp.flags.cwr',\n",
       "       'tcp.window_size', 'tcp.checksum', 'tcp.urgent_pointer',\n",
       "       'tcp.options.mss_val', 'label'],\n",
       "      dtype='object')"
      ]
     },
     "execution_count": 20,
     "metadata": {},
     "output_type": "execute_result"
    }
   ],
   "source": [
    "full_data.columns\n"
   ]
  },
  {
   "cell_type": "markdown",
   "metadata": {
    "id": "jYYuJAgbQXDt"
   },
   "source": [
    "Outras colunas removidas"
   ]
  },
  {
   "cell_type": "code",
   "execution_count": 21,
   "metadata": {
    "executionInfo": {
     "elapsed": 9,
     "status": "ok",
     "timestamp": 1658070527195,
     "user": {
      "displayName": "Romes Filho",
      "userId": "01290887687841314611"
     },
     "user_tz": 180
    },
    "id": "S4NhMTavQKPS"
   },
   "outputs": [],
   "source": [
    "full_data.drop(columns=[\"ip.checksum\", \"tcp.checksum\", \n",
    "                        \"tcp.ack\", \"tcp.dstport\"], axis=1, inplace=True)"
   ]
  },
  {
   "cell_type": "markdown",
   "metadata": {
    "id": "ipZMuZKcQeY5"
   },
   "source": [
    "Retirada de duplicatas"
   ]
  },
  {
   "cell_type": "code",
   "execution_count": 22,
   "metadata": {
    "executionInfo": {
     "elapsed": 634,
     "status": "ok",
     "timestamp": 1658070527820,
     "user": {
      "displayName": "Romes Filho",
      "userId": "01290887687841314611"
     },
     "user_tz": 180
    },
    "id": "6iBfzGkeQdM7"
   },
   "outputs": [],
   "source": [
    "full_data.drop_duplicates(inplace=True, ignore_index=True)\n"
   ]
  },
  {
   "cell_type": "markdown",
   "metadata": {
    "id": "bGiHqBDsQMfq"
   },
   "source": [
    "Classificação multiclasse\n"
   ]
  },
  {
   "cell_type": "code",
   "execution_count": 23,
   "metadata": {
    "colab": {
     "base_uri": "https://localhost:8080/"
    },
    "executionInfo": {
     "elapsed": 6,
     "status": "ok",
     "timestamp": 1658070527821,
     "user": {
      "displayName": "Romes Filho",
      "userId": "01290887687841314611"
     },
     "user_tz": 180
    },
    "id": "5wappJX0QOMF",
    "outputId": "b0a07566-db49-468f-b5fe-cfc3717a85df"
   },
   "outputs": [
    {
     "data": {
      "text/plain": [
       "bonafide         315729\n",
       "zmap              70498\n",
       "nmap_connect      45358\n",
       "hping_syn         43260\n",
       "unicorn_syn       42479\n",
       "nmap_syn          40112\n",
       "unicorn_conn      38629\n",
       "masscan           21114\n",
       "nmap_ack          20002\n",
       "nmap_window       18359\n",
       "nmap_null         12018\n",
       "nmap_fin          12013\n",
       "nmap_xmas         12012\n",
       "hping_ack         10877\n",
       "nmap_maimon       10003\n",
       "unicorn_ack        8023\n",
       "hping_fin          6877\n",
       "hping_null         6877\n",
       "hping_xmas         6877\n",
       "unicorn_null       4219\n",
       "unicorn_xmas       3995\n",
       "unicorn_fxmas      3973\n",
       "unicorn_fin        3967\n",
       "Name: label, dtype: int64"
      ]
     },
     "execution_count": 23,
     "metadata": {},
     "output_type": "execute_result"
    }
   ],
   "source": [
    "full_data['label'].value_counts()\n"
   ]
  },
  {
   "cell_type": "code",
   "execution_count": 24,
   "metadata": {
    "colab": {
     "base_uri": "https://localhost:8080/"
    },
    "executionInfo": {
     "elapsed": 5,
     "status": "ok",
     "timestamp": 1658070527821,
     "user": {
      "displayName": "Romes Filho",
      "userId": "01290887687841314611"
     },
     "user_tz": 180
    },
    "id": "NpL7h278QP5q",
    "outputId": "a7218bb0-2ce5-4205-abaf-841f82a58f35"
   },
   "outputs": [
    {
     "data": {
      "text/plain": [
       "757271"
      ]
     },
     "execution_count": 24,
     "metadata": {},
     "output_type": "execute_result"
    }
   ],
   "source": [
    "full_data.shape[0]"
   ]
  },
  {
   "cell_type": "code",
   "execution_count": 26,
   "metadata": {
    "colab": {
     "base_uri": "https://localhost:8080/"
    },
    "executionInfo": {
     "elapsed": 761,
     "status": "ok",
     "timestamp": 1658070528579,
     "user": {
      "displayName": "Romes Filho",
      "userId": "01290887687841314611"
     },
     "user_tz": 180
    },
    "id": "FyQJbYceQoLE",
    "outputId": "a8710e7a-3180-440b-c8d1-02141c337687"
   },
   "outputs": [
    {
     "name": "stdout",
     "output_type": "stream",
     "text": [
      "(757271, 19) (757271,)\n"
     ]
    }
   ],
   "source": [
    "from sklearn.tree import DecisionTreeClassifier\n",
    "from sklearn.naive_bayes import GaussianNB\n",
    "from sklearn.linear_model import LogisticRegression\n",
    "from sklearn.neural_network import MLPClassifier\n",
    "from sklearn.preprocessing import StandardScaler, MinMaxScaler\n",
    "from sklearn.ensemble import RandomForestClassifier\n",
    "\n",
    "algorithms = {\n",
    "    #\"MLP\" : (MLPClassifier(), {\n",
    "    #    \"hidden_layer_sizes\" : (10, 10),\n",
    "    #}),\n",
    "    #\"XGB\" : (XGBClassifier(), {}),\n",
    "    # \"NB\" : (GaussianNB(), {}),\n",
    "    # \"LR\" : (LogisticRegression(n_jobs=-1), {\n",
    "    #     \"class_weight\": [None, \"balanced\"]\n",
    "    # }),\n",
    "    \"RF\" : (RandomForestClassifier(random_state=17, n_jobs=-1), {\n",
    "        \"n_estimators\" : [10, 50, 100, 200],\n",
    "        \"criterion\" : (\"gini\", \"entropy\"), \n",
    "        \"max_depth\": [5, 10],\n",
    "        \"class_weight\": (None, \"balanced\", \"balanced_subsample\")\n",
    "    }),\n",
    "    # \"DT\" : (DecisionTreeClassifier(), {\n",
    "    #     \"criterion\": (\"gini\", \"entropy\"), \n",
    "    #     \"max_depth\": [x for x in range(1,21)],\n",
    "    #     \"class_weight\": (None, \"balanced\")\n",
    "    # }),\n",
    "}\n",
    "le = LabelEncoder()\n",
    "full_data = full_data.fillna(0)\n",
    "X = full_data.drop(columns = [\"label\"])\n",
    "full_data['label'] = le.fit_transform(full_data.label)\n",
    "y = full_data.label\n",
    "\n",
    "print(X.shape, y.shape)"
   ]
  },
  {
   "cell_type": "code",
   "execution_count": 27,
   "metadata": {
    "colab": {
     "base_uri": "https://localhost:8080/",
     "height": 206
    },
    "executionInfo": {
     "elapsed": 10,
     "status": "ok",
     "timestamp": 1658070528580,
     "user": {
      "displayName": "Romes Filho",
      "userId": "01290887687841314611"
     },
     "user_tz": 180
    },
    "id": "2yRhewX-i-vS",
    "outputId": "2b7f8daf-85f3-419a-fd88-9d3ece51333c"
   },
   "outputs": [
    {
     "data": {
      "text/html": [
       "<div>\n",
       "<style scoped>\n",
       "    .dataframe tbody tr th:only-of-type {\n",
       "        vertical-align: middle;\n",
       "    }\n",
       "\n",
       "    .dataframe tbody tr th {\n",
       "        vertical-align: top;\n",
       "    }\n",
       "\n",
       "    .dataframe thead th {\n",
       "        text-align: right;\n",
       "    }\n",
       "</style>\n",
       "<table border=\"1\" class=\"dataframe\">\n",
       "  <thead>\n",
       "    <tr style=\"text-align: right;\">\n",
       "      <th></th>\n",
       "      <th>ip.id</th>\n",
       "      <th>ip.flags.df</th>\n",
       "      <th>ip.ttl</th>\n",
       "      <th>ip.len</th>\n",
       "      <th>ip.dsfield</th>\n",
       "      <th>tcp.srcport</th>\n",
       "      <th>tcp.seq</th>\n",
       "      <th>tcp.len</th>\n",
       "      <th>tcp.hdr_len</th>\n",
       "      <th>tcp.flags.fin</th>\n",
       "      <th>tcp.flags.syn</th>\n",
       "      <th>tcp.flags.reset</th>\n",
       "      <th>tcp.flags.push</th>\n",
       "      <th>tcp.flags.ack</th>\n",
       "      <th>tcp.flags.urg</th>\n",
       "      <th>tcp.flags.cwr</th>\n",
       "      <th>tcp.window_size</th>\n",
       "      <th>tcp.urgent_pointer</th>\n",
       "      <th>tcp.options.mss_val</th>\n",
       "    </tr>\n",
       "  </thead>\n",
       "  <tbody>\n",
       "    <tr>\n",
       "      <th>0</th>\n",
       "      <td>46834</td>\n",
       "      <td>0</td>\n",
       "      <td>247</td>\n",
       "      <td>40</td>\n",
       "      <td>0</td>\n",
       "      <td>53026</td>\n",
       "      <td>0</td>\n",
       "      <td>0</td>\n",
       "      <td>20</td>\n",
       "      <td>0</td>\n",
       "      <td>1</td>\n",
       "      <td>0</td>\n",
       "      <td>0</td>\n",
       "      <td>0</td>\n",
       "      <td>0</td>\n",
       "      <td>0</td>\n",
       "      <td>1024</td>\n",
       "      <td>0</td>\n",
       "      <td>0</td>\n",
       "    </tr>\n",
       "    <tr>\n",
       "      <th>1</th>\n",
       "      <td>3793</td>\n",
       "      <td>1</td>\n",
       "      <td>56</td>\n",
       "      <td>537</td>\n",
       "      <td>8</td>\n",
       "      <td>443</td>\n",
       "      <td>1</td>\n",
       "      <td>485</td>\n",
       "      <td>32</td>\n",
       "      <td>0</td>\n",
       "      <td>0</td>\n",
       "      <td>0</td>\n",
       "      <td>1</td>\n",
       "      <td>1</td>\n",
       "      <td>0</td>\n",
       "      <td>0</td>\n",
       "      <td>252</td>\n",
       "      <td>0</td>\n",
       "      <td>0</td>\n",
       "    </tr>\n",
       "    <tr>\n",
       "      <th>2</th>\n",
       "      <td>0</td>\n",
       "      <td>1</td>\n",
       "      <td>59</td>\n",
       "      <td>80</td>\n",
       "      <td>0</td>\n",
       "      <td>59206</td>\n",
       "      <td>1</td>\n",
       "      <td>0</td>\n",
       "      <td>60</td>\n",
       "      <td>0</td>\n",
       "      <td>0</td>\n",
       "      <td>0</td>\n",
       "      <td>0</td>\n",
       "      <td>1</td>\n",
       "      <td>0</td>\n",
       "      <td>0</td>\n",
       "      <td>4677</td>\n",
       "      <td>0</td>\n",
       "      <td>0</td>\n",
       "    </tr>\n",
       "    <tr>\n",
       "      <th>3</th>\n",
       "      <td>8559</td>\n",
       "      <td>1</td>\n",
       "      <td>55</td>\n",
       "      <td>54</td>\n",
       "      <td>0</td>\n",
       "      <td>52239</td>\n",
       "      <td>1</td>\n",
       "      <td>2</td>\n",
       "      <td>32</td>\n",
       "      <td>0</td>\n",
       "      <td>0</td>\n",
       "      <td>0</td>\n",
       "      <td>1</td>\n",
       "      <td>1</td>\n",
       "      <td>0</td>\n",
       "      <td>0</td>\n",
       "      <td>115</td>\n",
       "      <td>0</td>\n",
       "      <td>0</td>\n",
       "    </tr>\n",
       "    <tr>\n",
       "      <th>4</th>\n",
       "      <td>54321</td>\n",
       "      <td>0</td>\n",
       "      <td>244</td>\n",
       "      <td>40</td>\n",
       "      <td>8</td>\n",
       "      <td>44034</td>\n",
       "      <td>0</td>\n",
       "      <td>0</td>\n",
       "      <td>20</td>\n",
       "      <td>0</td>\n",
       "      <td>1</td>\n",
       "      <td>0</td>\n",
       "      <td>0</td>\n",
       "      <td>0</td>\n",
       "      <td>0</td>\n",
       "      <td>0</td>\n",
       "      <td>65535</td>\n",
       "      <td>0</td>\n",
       "      <td>0</td>\n",
       "    </tr>\n",
       "  </tbody>\n",
       "</table>\n",
       "</div>"
      ],
      "text/plain": [
       "   ip.id  ip.flags.df  ip.ttl  ip.len  ip.dsfield  tcp.srcport  tcp.seq  \\\n",
       "0  46834            0     247      40           0        53026        0   \n",
       "1   3793            1      56     537           8          443        1   \n",
       "2      0            1      59      80           0        59206        1   \n",
       "3   8559            1      55      54           0        52239        1   \n",
       "4  54321            0     244      40           8        44034        0   \n",
       "\n",
       "   tcp.len  tcp.hdr_len  tcp.flags.fin  tcp.flags.syn  tcp.flags.reset  \\\n",
       "0        0           20              0              1                0   \n",
       "1      485           32              0              0                0   \n",
       "2        0           60              0              0                0   \n",
       "3        2           32              0              0                0   \n",
       "4        0           20              0              1                0   \n",
       "\n",
       "   tcp.flags.push  tcp.flags.ack  tcp.flags.urg  tcp.flags.cwr  \\\n",
       "0               0              0              0              0   \n",
       "1               1              1              0              0   \n",
       "2               0              1              0              0   \n",
       "3               1              1              0              0   \n",
       "4               0              0              0              0   \n",
       "\n",
       "   tcp.window_size  tcp.urgent_pointer  tcp.options.mss_val  \n",
       "0             1024                   0                    0  \n",
       "1              252                   0                    0  \n",
       "2             4677                   0                    0  \n",
       "3              115                   0                    0  \n",
       "4            65535                   0                    0  "
      ]
     },
     "execution_count": 27,
     "metadata": {},
     "output_type": "execute_result"
    }
   ],
   "source": [
    "X = X.astype(int) \n",
    "X.head()"
   ]
  },
  {
   "cell_type": "code",
   "execution_count": 28,
   "metadata": {
    "colab": {
     "base_uri": "https://localhost:8080/",
     "height": 397
    },
    "id": "no8DpPvfC7A2",
    "outputId": "abd3b5d8-a1a6-4f62-f6db-8f7e4db2969e"
   },
   "outputs": [
    {
     "name": "stdout",
     "output_type": "stream",
     "text": [
      "RF\n",
      "{'class_weight': None, 'criterion': 'gini', 'max_depth': 5, 'n_estimators': 10}\n",
      "{'class_weight': None, 'criterion': 'gini', 'max_depth': 5, 'n_estimators': 10}\n",
      "{'class_weight': None, 'criterion': 'gini', 'max_depth': 5, 'n_estimators': 10}\n",
      "{'class_weight': None, 'criterion': 'gini', 'max_depth': 5, 'n_estimators': 10}\n",
      "{'class_weight': None, 'criterion': 'gini', 'max_depth': 5, 'n_estimators': 10}\n",
      "{'class_weight': None, 'criterion': 'gini', 'max_depth': 5, 'n_estimators': 10}\n",
      "{'class_weight': None, 'criterion': 'gini', 'max_depth': 5, 'n_estimators': 10}\n",
      "{'class_weight': None, 'criterion': 'gini', 'max_depth': 5, 'n_estimators': 10}\n",
      "{'class_weight': None, 'criterion': 'gini', 'max_depth': 5, 'n_estimators': 10}\n",
      "{'class_weight': None, 'criterion': 'gini', 'max_depth': 5, 'n_estimators': 10}\n"
     ]
    }
   ],
   "source": [
    "from sklearn.model_selection import StratifiedKFold, GridSearchCV\n",
    "from sklearn.metrics import accuracy_score, make_scorer, f1_score, roc_auc_score\n",
    "\n",
    "kf = StratifiedKFold(n_splits=10, shuffle=True, random_state=17) # Train, Test\n",
    "gskf = StratifiedKFold(n_splits=3, shuffle=True, random_state=17) # Validation\n",
    "perf = f1_score # could be considered roc_auc_score for binary classification\n",
    "acc = accuracy_score\n",
    "\n",
    "score = {}\n",
    "accuracy = {}\n",
    "best_params = {}\n",
    "results = {}\n",
    "for algorithm in algorithms.keys():\n",
    "    score[algorithm] = []\n",
    "    accuracy[algorithm] = []\n",
    "    results[algorithm] = { 'expected' : [], 'predicted' : []}\n",
    "\n",
    "for algorithm, (clf, parameters) in algorithms.items():\n",
    "    print(algorithm)\n",
    "    for train, test in kf.split(X, y):\n",
    "        prep = StandardScaler()\n",
    "        #prep = MinMaxScaler()\n",
    "        prep.fit(X.iloc[train])\n",
    "        best = GridSearchCV(clf, parameters, cv=gskf, scoring=make_scorer(perf), n_jobs=-1)\n",
    "        best.fit(prep.transform(X.iloc[train]), y.iloc[train])\n",
    "        best_params[algorithm] = best.best_params_\n",
    "        print(best.best_params_)\n",
    "        score[algorithm].append(perf(best.predict(prep.transform(X.iloc[test])), y.iloc[test], average='weighted'))\n",
    "        accuracy[algorithm].append(acc(best.predict(prep.transform(X.iloc[test])), y.iloc[test]))\n",
    "        results[algorithm]['expected'].extend(y.iloc[test])\n",
    "        results[algorithm]['predicted'].extend(best.predict_proba(prep.transform(X.iloc[test])).transpose()[1]) \n"
   ]
  },
  {
   "cell_type": "code",
   "execution_count": 29,
   "metadata": {
    "id": "FaAgAeup1wwc"
   },
   "outputs": [],
   "source": [
    "count = 'rf_'"
   ]
  },
  {
   "cell_type": "code",
   "execution_count": 30,
   "metadata": {
    "id": "DcsUya20C695"
   },
   "outputs": [
    {
     "data": {
      "text/html": [
       "<div>\n",
       "<style scoped>\n",
       "    .dataframe tbody tr th:only-of-type {\n",
       "        vertical-align: middle;\n",
       "    }\n",
       "\n",
       "    .dataframe tbody tr th {\n",
       "        vertical-align: top;\n",
       "    }\n",
       "\n",
       "    .dataframe thead th {\n",
       "        text-align: right;\n",
       "    }\n",
       "</style>\n",
       "<table border=\"1\" class=\"dataframe\">\n",
       "  <thead>\n",
       "    <tr style=\"text-align: right;\">\n",
       "      <th></th>\n",
       "      <th>RF</th>\n",
       "    </tr>\n",
       "  </thead>\n",
       "  <tbody>\n",
       "    <tr>\n",
       "      <th>0</th>\n",
       "      <td>0.620089</td>\n",
       "    </tr>\n",
       "    <tr>\n",
       "      <th>1</th>\n",
       "      <td>0.618702</td>\n",
       "    </tr>\n",
       "    <tr>\n",
       "      <th>2</th>\n",
       "      <td>0.621180</td>\n",
       "    </tr>\n",
       "    <tr>\n",
       "      <th>3</th>\n",
       "      <td>0.621718</td>\n",
       "    </tr>\n",
       "    <tr>\n",
       "      <th>4</th>\n",
       "      <td>0.620029</td>\n",
       "    </tr>\n",
       "    <tr>\n",
       "      <th>5</th>\n",
       "      <td>0.622118</td>\n",
       "    </tr>\n",
       "    <tr>\n",
       "      <th>6</th>\n",
       "      <td>0.620596</td>\n",
       "    </tr>\n",
       "    <tr>\n",
       "      <th>7</th>\n",
       "      <td>0.620223</td>\n",
       "    </tr>\n",
       "    <tr>\n",
       "      <th>8</th>\n",
       "      <td>0.622523</td>\n",
       "    </tr>\n",
       "    <tr>\n",
       "      <th>9</th>\n",
       "      <td>0.618952</td>\n",
       "    </tr>\n",
       "  </tbody>\n",
       "</table>\n",
       "</div>"
      ],
      "text/plain": [
       "         RF\n",
       "0  0.620089\n",
       "1  0.618702\n",
       "2  0.621180\n",
       "3  0.621718\n",
       "4  0.620029\n",
       "5  0.622118\n",
       "6  0.620596\n",
       "7  0.620223\n",
       "8  0.622523\n",
       "9  0.618952"
      ]
     },
     "execution_count": 30,
     "metadata": {},
     "output_type": "execute_result"
    }
   ],
   "source": [
    "# f1-scores for the best set of parameters from the Grid Search above (for each k-fold)\n",
    "scores_df = pd.DataFrame.from_dict(score)\n",
    "scores_df"
   ]
  },
  {
   "cell_type": "code",
   "execution_count": 31,
   "metadata": {
    "id": "CNRFp_s2F3u8"
   },
   "outputs": [],
   "source": [
    "scores_df.to_csv(path+count+'scores.csv', index=False)"
   ]
  },
  {
   "cell_type": "code",
   "execution_count": 32,
   "metadata": {
    "id": "KXa9XoQs17pO"
   },
   "outputs": [
    {
     "data": {
      "text/html": [
       "<div>\n",
       "<style scoped>\n",
       "    .dataframe tbody tr th:only-of-type {\n",
       "        vertical-align: middle;\n",
       "    }\n",
       "\n",
       "    .dataframe tbody tr th {\n",
       "        vertical-align: top;\n",
       "    }\n",
       "\n",
       "    .dataframe thead th {\n",
       "        text-align: right;\n",
       "    }\n",
       "</style>\n",
       "<table border=\"1\" class=\"dataframe\">\n",
       "  <thead>\n",
       "    <tr style=\"text-align: right;\">\n",
       "      <th></th>\n",
       "      <th>RF</th>\n",
       "    </tr>\n",
       "  </thead>\n",
       "  <tbody>\n",
       "    <tr>\n",
       "      <th>class_weight</th>\n",
       "      <td>None</td>\n",
       "    </tr>\n",
       "    <tr>\n",
       "      <th>criterion</th>\n",
       "      <td>gini</td>\n",
       "    </tr>\n",
       "    <tr>\n",
       "      <th>max_depth</th>\n",
       "      <td>5</td>\n",
       "    </tr>\n",
       "    <tr>\n",
       "      <th>n_estimators</th>\n",
       "      <td>10</td>\n",
       "    </tr>\n",
       "  </tbody>\n",
       "</table>\n",
       "</div>"
      ],
      "text/plain": [
       "                RF\n",
       "class_weight  None\n",
       "criterion     gini\n",
       "max_depth        5\n",
       "n_estimators    10"
      ]
     },
     "execution_count": 32,
     "metadata": {},
     "output_type": "execute_result"
    }
   ],
   "source": [
    "best_params_ = pd.DataFrame.from_dict(best_params)\n",
    "best_params_"
   ]
  },
  {
   "cell_type": "code",
   "execution_count": 33,
   "metadata": {
    "id": "v4irPjDT17mF"
   },
   "outputs": [],
   "source": [
    "best_params_.to_csv(path+count+'best_models.csv', index=False)\n"
   ]
  },
  {
   "cell_type": "code",
   "execution_count": 34,
   "metadata": {
    "id": "EvIm7wr617jP"
   },
   "outputs": [
    {
     "data": {
      "text/html": [
       "<div>\n",
       "<style scoped>\n",
       "    .dataframe tbody tr th:only-of-type {\n",
       "        vertical-align: middle;\n",
       "    }\n",
       "\n",
       "    .dataframe tbody tr th {\n",
       "        vertical-align: top;\n",
       "    }\n",
       "\n",
       "    .dataframe thead th {\n",
       "        text-align: right;\n",
       "    }\n",
       "</style>\n",
       "<table border=\"1\" class=\"dataframe\">\n",
       "  <thead>\n",
       "    <tr style=\"text-align: right;\">\n",
       "      <th></th>\n",
       "      <th>RF</th>\n",
       "    </tr>\n",
       "  </thead>\n",
       "  <tbody>\n",
       "    <tr>\n",
       "      <th>0</th>\n",
       "      <td>0.558010</td>\n",
       "    </tr>\n",
       "    <tr>\n",
       "      <th>1</th>\n",
       "      <td>0.558638</td>\n",
       "    </tr>\n",
       "    <tr>\n",
       "      <th>2</th>\n",
       "      <td>0.558084</td>\n",
       "    </tr>\n",
       "    <tr>\n",
       "      <th>3</th>\n",
       "      <td>0.555363</td>\n",
       "    </tr>\n",
       "    <tr>\n",
       "      <th>4</th>\n",
       "      <td>0.555429</td>\n",
       "    </tr>\n",
       "    <tr>\n",
       "      <th>5</th>\n",
       "      <td>0.558810</td>\n",
       "    </tr>\n",
       "    <tr>\n",
       "      <th>6</th>\n",
       "      <td>0.557318</td>\n",
       "    </tr>\n",
       "    <tr>\n",
       "      <th>7</th>\n",
       "      <td>0.556301</td>\n",
       "    </tr>\n",
       "    <tr>\n",
       "      <th>8</th>\n",
       "      <td>0.556341</td>\n",
       "    </tr>\n",
       "    <tr>\n",
       "      <th>9</th>\n",
       "      <td>0.553224</td>\n",
       "    </tr>\n",
       "  </tbody>\n",
       "</table>\n",
       "</div>"
      ],
      "text/plain": [
       "         RF\n",
       "0  0.558010\n",
       "1  0.558638\n",
       "2  0.558084\n",
       "3  0.555363\n",
       "4  0.555429\n",
       "5  0.558810\n",
       "6  0.557318\n",
       "7  0.556301\n",
       "8  0.556341\n",
       "9  0.553224"
      ]
     },
     "execution_count": 34,
     "metadata": {},
     "output_type": "execute_result"
    }
   ],
   "source": [
    "acc_df = pd.DataFrame.from_dict(accuracy)\n",
    "acc_df"
   ]
  },
  {
   "cell_type": "code",
   "execution_count": 35,
   "metadata": {
    "id": "OnufOAsV17gG"
   },
   "outputs": [],
   "source": [
    "acc_df.to_csv(path+count+'acc.csv', index=False)"
   ]
  },
  {
   "cell_type": "code",
   "execution_count": 36,
   "metadata": {
    "id": "4-h3gs8O17dr"
   },
   "outputs": [
    {
     "data": {
      "text/html": [
       "<div>\n",
       "<style scoped>\n",
       "    .dataframe tbody tr th:only-of-type {\n",
       "        vertical-align: middle;\n",
       "    }\n",
       "\n",
       "    .dataframe tbody tr th {\n",
       "        vertical-align: top;\n",
       "    }\n",
       "\n",
       "    .dataframe thead th {\n",
       "        text-align: right;\n",
       "    }\n",
       "</style>\n",
       "<table border=\"1\" class=\"dataframe\">\n",
       "  <thead>\n",
       "    <tr style=\"text-align: right;\">\n",
       "      <th></th>\n",
       "      <th>RF</th>\n",
       "    </tr>\n",
       "  </thead>\n",
       "  <tbody>\n",
       "    <tr>\n",
       "      <th>expected</th>\n",
       "      <td>[0, 0, 0, 0, 0, 0, 0, 0, 0, 0, 0, 0, 0, 0, 0, ...</td>\n",
       "    </tr>\n",
       "    <tr>\n",
       "      <th>predicted</th>\n",
       "      <td>[0.001662415994936426, 0.005550670703229746, 0...</td>\n",
       "    </tr>\n",
       "  </tbody>\n",
       "</table>\n",
       "</div>"
      ],
      "text/plain": [
       "                                                          RF\n",
       "expected   [0, 0, 0, 0, 0, 0, 0, 0, 0, 0, 0, 0, 0, 0, 0, ...\n",
       "predicted  [0.001662415994936426, 0.005550670703229746, 0..."
      ]
     },
     "execution_count": 36,
     "metadata": {},
     "output_type": "execute_result"
    }
   ],
   "source": [
    "auc_df = pd.DataFrame.from_dict(results)\n",
    "auc_df"
   ]
  },
  {
   "cell_type": "code",
   "execution_count": 37,
   "metadata": {
    "id": "3nmm0Fkq17a7"
   },
   "outputs": [],
   "source": [
    "auc_df.to_csv(path+count+'auc.csv', index=False)"
   ]
  },
  {
   "cell_type": "code",
   "execution_count": null,
   "metadata": {
    "id": "uoijDcnm17YN"
   },
   "outputs": [],
   "source": []
  },
  {
   "cell_type": "code",
   "execution_count": null,
   "metadata": {
    "id": "x7ANjQZrKI-i"
   },
   "outputs": [],
   "source": []
  },
  {
   "cell_type": "code",
   "execution_count": null,
   "metadata": {
    "id": "UYsqb-pTMryA"
   },
   "outputs": [],
   "source": []
  },
  {
   "cell_type": "code",
   "execution_count": null,
   "metadata": {
    "id": "XzBE354xKIpD"
   },
   "outputs": [],
   "source": []
  },
  {
   "cell_type": "code",
   "execution_count": null,
   "metadata": {
    "id": "A_gGB8KF17VJ"
   },
   "outputs": [],
   "source": []
  },
  {
   "cell_type": "code",
   "execution_count": null,
   "metadata": {
    "id": "feWtEjrF17R-"
   },
   "outputs": [],
   "source": []
  },
  {
   "cell_type": "code",
   "execution_count": null,
   "metadata": {
    "id": "1VmIXxFD17PH"
   },
   "outputs": [],
   "source": []
  },
  {
   "cell_type": "code",
   "execution_count": null,
   "metadata": {
    "id": "xI_ThNygUPVI"
   },
   "outputs": [],
   "source": []
  },
  {
   "cell_type": "code",
   "execution_count": null,
   "metadata": {
    "id": "FVLFT-94UPSf"
   },
   "outputs": [],
   "source": []
  },
  {
   "cell_type": "code",
   "execution_count": null,
   "metadata": {
    "id": "9x0y-GPYUPOm"
   },
   "outputs": [],
   "source": []
  },
  {
   "cell_type": "code",
   "execution_count": null,
   "metadata": {
    "id": "HSKUPj4p2g4A"
   },
   "outputs": [],
   "source": []
  },
  {
   "cell_type": "markdown",
   "metadata": {
    "id": "0_ZtIaGY2glV"
   },
   "source": []
  },
  {
   "cell_type": "markdown",
   "metadata": {
    "id": "LYbJbAXa2gYz"
   },
   "source": []
  },
  {
   "cell_type": "code",
   "execution_count": null,
   "metadata": {
    "id": "V4Wn74NIC66t"
   },
   "outputs": [],
   "source": [
    "from sklearn.model_selection import StratifiedKFold, GridSearchCV\n",
    "from sklearn.metrics import accuracy_score, make_scorer, f1_score, roc_auc_score, roc_curve\n",
    "\n",
    "kf = StratifiedKFold(n_splits=10, shuffle=True, random_state=17) # Train, Test\n",
    "gskf = StratifiedKFold(n_splits=3, shuffle=True, random_state=17) # Validation\n",
    "perf = roc_auc_score\n",
    "\n",
    "results = {}\n",
    "\n",
    "for algorithm in algorithms.keys():\n",
    "    results[algorithm] = { 'expected' : [], 'predicted' : []}\n",
    "    \n",
    "for algorithm, (clf, parameters) in algorithms.items():\n",
    "    print(algorithm)\n",
    "    for train, test in kf.split(X, y):\n",
    "        prep = StandardScaler()\n",
    "        prep.fit(X.iloc[train])\n",
    "\n",
    "        best = GridSearchCV(clf, parameters, cv=gskf, scoring=make_scorer(perf), n_jobs=-1)\n",
    "        best.fit(prep.transform(X.iloc[train]), y.iloc[train])\n",
    "        \n",
    "        results[algorithm]['expected'].extend(y.iloc[test])\n",
    "        results[algorithm]['predicted'].extend(best.predict_proba(prep.transform(X.iloc[test])).transpose()[1]) "
   ]
  }
 ],
 "metadata": {
  "accelerator": "GPU",
  "colab": {
   "collapsed_sections": [],
   "name": "internet.ipynb",
   "provenance": [
    {
     "file_id": "1bt-hoZ6bUmm-rCRBP33IdYVP90hQXSHf",
     "timestamp": 1658002089926
    },
    {
     "file_id": "1tyTA3AU7PZfMx_3jSB_E6Nu0Z13znwlG",
     "timestamp": 1657992043252
    }
   ]
  },
  "gpuClass": "standard",
  "kernelspec": {
   "display_name": "Python 3 (ipykernel)",
   "language": "python",
   "name": "python3"
  },
  "language_info": {
   "codemirror_mode": {
    "name": "ipython",
    "version": 3
   },
   "file_extension": ".py",
   "mimetype": "text/x-python",
   "name": "python",
   "nbconvert_exporter": "python",
   "pygments_lexer": "ipython3",
   "version": "3.9.12"
  }
 },
 "nbformat": 4,
 "nbformat_minor": 1
}
