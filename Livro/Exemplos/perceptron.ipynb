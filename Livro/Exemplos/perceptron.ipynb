{
 "cells": [
  {
   "cell_type": "code",
   "execution_count": 1,
   "metadata": {},
   "outputs": [],
   "source": [
    "import numpy as np"
   ]
  },
  {
   "cell_type": "code",
   "execution_count": 3,
   "metadata": {},
   "outputs": [
    {
     "data": {
      "text/plain": [
       "array([[0., 0., 0.],\n",
       "       [0., 0., 0.]])"
      ]
     },
     "execution_count": 3,
     "metadata": {},
     "output_type": "execute_result"
    }
   ],
   "source": [
    "# Dedine o número de épocas de amostras (q)\n",
    "numEpocas = 10000\n",
    "q = 6\n",
    "\n",
    "# Atributos\n",
    "peso = np.array([113, 122, 107, 98, 115, 120])\n",
    "ph = np.array([6.8, 4.7, 5.2, 3.6, 2.9, 4.2])\n",
    "\n",
    "# Bias\n",
    "bias = 1\n",
    "\n",
    "# Entrada do Perceptron \n",
    "X = np.vstack((peso, ph))\n",
    "Y = np.array([-1, 1, -1, -1, -1, 1])\n",
    "\n",
    "# Taxa de aprendizado\n",
    "eta = 0.1\n",
    "\n",
    "# Define o vetor de pesos\n",
    "W =np.zeros([2, 3]) # duas entradas mais o bias\n",
    "\n",
    "# Array para armazenar os erros\n",
    "e = np.zeros(6)\n",
    "\n",
    "# Função de ativação\n",
    "def fa(valor):\n",
    "    # A função de ativação será a degrau bipolar"
   ]
  },
  {
   "cell_type": "code",
   "execution_count": null,
   "metadata": {},
   "outputs": [],
   "source": []
  }
 ],
 "metadata": {
  "kernelspec": {
   "display_name": "env",
   "language": "python",
   "name": "python3"
  },
  "language_info": {
   "codemirror_mode": {
    "name": "ipython",
    "version": 3
   },
   "file_extension": ".py",
   "mimetype": "text/x-python",
   "name": "python",
   "nbconvert_exporter": "python",
   "pygments_lexer": "ipython3",
   "version": "3.10.5"
  },
  "orig_nbformat": 4
 },
 "nbformat": 4,
 "nbformat_minor": 2
}
