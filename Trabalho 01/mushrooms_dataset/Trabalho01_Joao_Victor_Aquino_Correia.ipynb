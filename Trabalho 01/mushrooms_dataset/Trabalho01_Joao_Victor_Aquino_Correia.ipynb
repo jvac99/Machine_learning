{
  "cells": [
    {
      "cell_type": "markdown",
      "metadata": {
        "colab_type": "text",
        "id": "view-in-github"
      },
      "source": [
        "<a href=\"https://colab.research.google.com/github/jvac99/Machine_learning/blob/main/Trabalho01_Joao_Victor_Aquino_Correia.ipynb\" target=\"_parent\"><img src=\"https://colab.research.google.com/assets/colab-badge.svg\" alt=\"Open In Colab\"/></a>"
      ]
    },
    {
      "cell_type": "markdown",
      "metadata": {
        "id": "oJGK7-D0ZEfg"
      },
      "source": [
        "# TP1 - Trabalho Prático 1 - Submissão até 23/05 (segunda) - Apresentação em 24/05 (terça)"
      ]
    },
    {
      "cell_type": "markdown",
      "metadata": {
        "id": "yhXgkYdpZQP3"
      },
      "source": [
        "* Importação dos dados\n",
        "* Análise dos dados\n",
        "* Pré-processamento\n",
        "* Uso de modelos preditivos para obtenção de predições (classificação ou regressão)\n",
        "* Usar validação cruzada com k-Fold sobre o conjunto de treino.\n",
        "  * Usar pelo menos 3 diferentes algoritmos de aprendizado de máquina.\n",
        "  * Usar diferentes hiper-parâmetros para cada algoritmo escolhido.\n",
        "  * Comparar resultados com e sem escalonamento de características (features).\n",
        "  * Usar Pipeline\n",
        "* Avaliação dos resultados através de métricas (RMSE para regressão e F1-Score para classificação) sobre o conjunto de treino e de teste.\n",
        "* Apresentação dos resultados através de tabela e gráfico de barras.\n",
        "* Apresentação do trabalho (obrigatório).\n",
        "\n",
        "\n",
        "\n",
        "\n",
        "\n"
      ]
    },
    {
      "cell_type": "markdown",
      "metadata": {
        "id": "Qlbxrf5wcHBJ"
      },
      "source": [
        "## Importação das bibliotecas"
      ]
    },
    {
      "cell_type": "code",
      "execution_count": null,
      "metadata": {
        "id": "asuB_b4icM_p"
      },
      "outputs": [],
      "source": [
        "import pandas as pd\n",
        "import numpy as np\n",
        "import matplotlib.pyplot as plt\n",
        "# Modelos\n",
        "from sklearn import tree\n",
        "from sklearn import svm\n",
        "from sklearn import neighbors\n",
        "from sklearn import naive_bayes\n",
        "from sklearn import linear_model\n",
        "\n",
        "from sklearn.neighbors import KNeighborsClassifier\n",
        "from sklearn.tree import DecisionTreeClassifier\n",
        "from sklearn.naive_bayes import MultinomialNB\n",
        "from sklearn.svm import SVC\n",
        "\n",
        "from sklearn.ensemble import GradientBoostingClassifier\n",
        "from sklearn.ensemble import RandomForestClassifier\n",
        "from sklearn.ensemble import GradientBoostingClassifier\n",
        "\n",
        "from sklearn.linear_model import LogisticRegression\n",
        "\n",
        "from sklearn.model_selection import KFold\n",
        "from sklearn.model_selection import cross_validate\n",
        "from sklearn.model_selection import cross_val_score\n",
        "from sklearn.model_selection import GridSearchCV\n",
        "from sklearn.model_selection import train_test_split\n",
        "from sklearn.model_selection import RandomizedSearchCV\n",
        "\n",
        "from sklearn.preprocessing import MinMaxScaler\n",
        "from sklearn.preprocessing import StandardScaler\n",
        "from sklearn.preprocessing import StandardScaler\n",
        "from sklearn.preprocessing import LabelEncoder\n",
        "\n",
        "from sklearn.metrics import f1_score\n",
        "from sklearn.metrics import accuracy_score\n",
        "from sklearn.metrics import precision_score\n",
        "from sklearn.metrics import recall_score\n",
        "from sklearn.metrics import roc_auc_score\n",
        "from sklearn.metrics import make_scorer\n",
        "\n",
        "from sklearn.pipeline import Pipeline\n",
        "\n",
        "from sklearn.datasets import make_hastie_10_2\n",
        "\n",
        "from sklearn.model_selection import RandomizedSearchCV\n",
        "from sklearn.tree import DecisionTreeClassifier "
      ]
    },
    {
      "cell_type": "markdown",
      "metadata": {
        "id": "xpq3xLTliT8a"
      },
      "source": [
        "#### Sobre o conjunto de dados\n",
        "\n",
        "**Contexto**\n",
        "\n",
        "Embora este conjunto de dados tenha sido originalmente contribuído para o repositório UCI Machine Learning há quase 30 anos, a caça de cogumelos (também conhecida como \"shrooming\") está desfrutando de novos picos de popularidade. Aprenda quais recursos significam morte certa e quais são mais palatáveis ​​neste conjunto de dados de características de cogumelos. E quão certo pode ser o seu modelo?\n",
        "\n",
        "**Contente**\n",
        "\n",
        "Este conjunto de dados inclui descrições de amostras hipotéticas correspondentes a 23 espécies de cogumelos com guelras no Cogumelo da Família Agaricus e Lepiota extraídas do Guia de Campo da Sociedade Audubon para Cogumelos da América do Norte (1981). Cada espécie é identificada como definitivamente comestível, definitivamente venenosa ou de comestibilidade desconhecida e não recomendada. Esta última classe foi combinada com a venenosa. O Guia afirma claramente que não existe uma regra simples para determinar a comestibilidade de um cogumelo; nenhuma regra como \"folhetos três, deixe estar\" para Poisonous Oak e Ivy.\n",
        "\n",
        "Período de tempo : Doado à UCI ML 27 de abril de 1987\n",
        "Inspiração\n",
        "Quais tipos de modelos de aprendizado de máquina têm melhor desempenho nesse conjunto de dados?\n",
        "\n",
        "Quais características são mais indicativas de um cogumelo venenoso?\n",
        "\n",
        "**Reconhecimentos**\n",
        "\n",
        "Este conjunto de dados foi originalmente doado ao repositório UCI Machine Learning. Você pode aprender mais sobre pesquisas anteriores usando os dados aqui ."
      ]
    },
    {
      "cell_type": "markdown",
      "metadata": {
        "id": "FrvLKNLfkC6a"
      },
      "source": [
        "About this file\n",
        "\n",
        "* 23 columns \n",
        "  * String 21 \n",
        "  * Boolean 2\n",
        "\n",
        "Attribute Information: (classes: edible=e, poisonous=p)\n",
        "\n",
        "* cap-shape: bell=b,conical=c,convex=x,flat=f, knobbed=k,sunken=s\n",
        "* cap-surface: fibrous=f,grooves=g,scaly=y,smooth=s\n",
        "* cap-color: brown=n,buff=b,cinnamon=c,gray=g,green=r,pink=p,purple=u,red=e,white=w,yellow=y\n",
        "* bruises: bruises=t,no=f\n",
        "* odor: almond=a,anise=l,creosote=c,fishy=y,foul=f,musty=m,none=n,pungent=p,spicy=s\n",
        "* gill-attachment: attached=a,descending=d,free=f,notched=n\n",
        "* gill-spacing: close=c,crowded=w,distant=d\n",
        "* gill-size: broad=b,narrow=n\n",
        "* gill-color: black=k,brown=n,buff=b,chocolate=h,gray=g, green=r,orange=o,pink=p,purple=u,red=e,white=w,yellow=y\n",
        "* stalk-shape: enlarging=e,tapering=t\n",
        "* stalk-root: bulbous=b,club=c,cup=u,equal=e,rhizomorphs=z,rooted=r,missing=?\n",
        "* stalk-surface-above-ring: fibrous=f,scaly=y,silky=k,smooth=s\n",
        "* stalk-surface-below-ring: fibrous=f,scaly=y,silky=k,smooth=s\n",
        "* stalk-color-above-ring: brown=n,buff=b,cinnamon=c,gray=g,orange=o,pink=p,red=e,white=w,yellow=y\n",
        "* stalk-color-below-ring: brown=n,buff=b,cinnamon=c,gray=g,orange=o,pink=p,red=e,white=w,yellow=y\n",
        "* veil-type: partial=p,universal=u\n",
        "* veil-color: brown=n,orange=o,white=w,yellow=y\n",
        "* ring-number: none=n,one=o,two=t\n",
        "* ring-type: cobwebby=c,evanescent=e,flaring=f,large=l,none=n,pendant=p,sheathing=s,zone=z\n",
        "* spore-print-color: black=k,brown=n,buff=b,chocolate=h,green=r,orange=o,purple=u,white=w,yellow=y\n",
        "* population: abundant=a,clustered=c,numerous=n,scattered=s,several=v,\n",
        "solitary=y\n",
        "* habitat: grasses=g,leaves=l,meadows=m,paths=p,urban=u,waste=w,woods=d"
      ]
    },
    {
      "cell_type": "markdown",
      "metadata": {
        "id": "5LfvLpFrZxX_"
      },
      "source": [
        "## Importação dos dados\n"
      ]
    },
    {
      "cell_type": "code",
      "execution_count": null,
      "metadata": {
        "id": "F2aHJbufobRq"
      },
      "outputs": [],
      "source": [
        "# Vamos carregar os dados com o Pandas\n",
        "df = pd.read_csv('https://raw.githubusercontent.com/jvac99/Machine_learning/main/mushrooms_dataset/mushrooms.csv')"
      ]
    },
    {
      "cell_type": "markdown",
      "metadata": {
        "id": "i8Fh6GB6Z-p_"
      },
      "source": [
        "## Análise dos dados"
      ]
    },
    {
      "cell_type": "code",
      "execution_count": null,
      "metadata": {
        "id": "tiE0PSOPElmg"
      },
      "outputs": [],
      "source": [
        "# Vejamos as cinco linhas superiores\n",
        "df.head()"
      ]
    },
    {
      "cell_type": "code",
      "execution_count": null,
      "metadata": {
        "id": "CLpdHsosEzFC"
      },
      "outputs": [],
      "source": [
        "# Obtenção de uma rápida descrição dos dados\n",
        "df.info()"
      ]
    },
    {
      "cell_type": "code",
      "execution_count": null,
      "metadata": {
        "id": "Xs1QYy5YIFP_"
      },
      "outputs": [],
      "source": [
        "df.describe()"
      ]
    },
    {
      "cell_type": "code",
      "execution_count": null,
      "metadata": {
        "id": "c20-L1dAaijM"
      },
      "outputs": [],
      "source": [
        "df.shape"
      ]
    },
    {
      "cell_type": "code",
      "execution_count": null,
      "metadata": {
        "id": "-cdp023rcVVN"
      },
      "outputs": [],
      "source": [
        "df.columns"
      ]
    },
    {
      "cell_type": "code",
      "execution_count": null,
      "metadata": {
        "id": "1eXY6d1tcem9"
      },
      "outputs": [],
      "source": [
        "df['class'].unique()"
      ]
    },
    {
      "cell_type": "code",
      "execution_count": null,
      "metadata": {
        "id": "Lbqhb4N9IG4j"
      },
      "outputs": [],
      "source": [
        "df.isnull().sum()"
      ]
    },
    {
      "cell_type": "code",
      "execution_count": null,
      "metadata": {
        "id": "4BtOzzwvIGcw"
      },
      "outputs": [],
      "source": [
        "# Converte dados categóricos em variáveis ​​dummy ou indicadoras.\n",
        "df_1 = pd.get_dummies(df.drop(['class'], axis=1))\n",
        "df_1"
      ]
    },
    {
      "cell_type": "markdown",
      "metadata": {
        "id": "J95PJg8TaJmN"
      },
      "source": [
        "## Pré-processamento\n",
        "\n"
      ]
    },
    {
      "cell_type": "markdown",
      "metadata": {
        "id": "TL7SFtvhnYCj"
      },
      "source": [
        "**Criação do dataset de validação**"
      ]
    },
    {
      "cell_type": "code",
      "execution_count": null,
      "metadata": {
        "id": "hxZwW88egnLm"
      },
      "outputs": [],
      "source": [
        "df['class'].value_counts()"
      ]
    },
    {
      "cell_type": "code",
      "execution_count": null,
      "metadata": {
        "id": "j2aHcuzs0DWv"
      },
      "outputs": [],
      "source": [
        "df['class'].value_counts(normalize=True)*100"
      ]
    },
    {
      "cell_type": "markdown",
      "metadata": {
        "id": "Afl8LgofmISj"
      },
      "source": [
        "**Mapeamento de classes**\n",
        "  * e (edible) -> 0\n",
        "  * p (poisonous) -> 1"
      ]
    },
    {
      "cell_type": "code",
      "execution_count": null,
      "metadata": {
        "id": "4b-FUFWkKNKc"
      },
      "outputs": [],
      "source": [
        "# Features\n",
        "X = df_1.to_numpy()\n",
        "# Labels\n",
        "#y = pd.get_dummies(df['class'], drop_first=True).to_numpy().squeeze()\n",
        "y = df['class']"
      ]
    },
    {
      "cell_type": "code",
      "execution_count": null,
      "metadata": {
        "id": "ijkgcx2NmHvN"
      },
      "outputs": [],
      "source": [
        "le = LabelEncoder()\n",
        "y = le.fit_transform(y)"
      ]
    },
    {
      "cell_type": "code",
      "execution_count": null,
      "metadata": {
        "id": "HQ_T5n8gnXyy"
      },
      "outputs": [],
      "source": [
        "le.transform(['e', 'p'])\n",
        "y"
      ]
    },
    {
      "cell_type": "code",
      "execution_count": null,
      "metadata": {
        "id": "h6MnD52IKOMx"
      },
      "outputs": [],
      "source": [
        "# Dividindo em conjunto de train e test\n",
        "X_train, X_test, y_train, y_test = train_test_split(X, y, train_size=0.8, random_state=42, stratify=y)\n",
        "X_train.shape, X_test.shape"
      ]
    },
    {
      "cell_type": "code",
      "execution_count": null,
      "metadata": {
        "id": "z4ScSx91ird1"
      },
      "outputs": [],
      "source": [
        "#y_train.value_counts()\n",
        "def values_counts_np (y):\n",
        "  uniques, counts = np.unique(y, return_counts=True)\n",
        "  return dict(zip(uniques, counts))"
      ]
    },
    {
      "cell_type": "code",
      "execution_count": null,
      "metadata": {
        "id": "ukk4eqVJBtat"
      },
      "outputs": [],
      "source": [
        "#percentages = (values_counts * 100 / y_train.shape[0]).round(2)\n",
        "def values_counts_np_percentages (values_counts):\n",
        "  percentages = {}\n",
        "  y_size = sum(values_counts.values())\n",
        "  for unique, count in values_counts.items():\n",
        "    percentage = (count * 100 / y_size).round(2)\n",
        "    percentages [unique] = percentage\n",
        "  return percentages"
      ]
    },
    {
      "cell_type": "code",
      "execution_count": null,
      "metadata": {
        "id": "MSm6sNmGBRpm"
      },
      "outputs": [],
      "source": [
        "# y_train\n",
        "values_counts_y_train = values_counts_np(y_train)\n",
        "values_counts_y_train"
      ]
    },
    {
      "cell_type": "code",
      "execution_count": null,
      "metadata": {
        "id": "ARk2YKjmCJVX"
      },
      "outputs": [],
      "source": [
        "percentages_y_train = values_counts_np_percentages(values_counts_y_train)\n",
        "percentages_y_train"
      ]
    },
    {
      "cell_type": "code",
      "execution_count": null,
      "metadata": {
        "id": "3YJXrjDL-S_y"
      },
      "outputs": [],
      "source": [
        "# y_test\n",
        "values_counts_y_test = values_counts_np(y_test)\n",
        "values_counts_y_test"
      ]
    },
    {
      "cell_type": "code",
      "execution_count": null,
      "metadata": {
        "id": "Rh9_-Oh3iyvT"
      },
      "outputs": [],
      "source": [
        "percentages_y_test = values_counts_np_percentages(values_counts_y_test)\n",
        "percentages_y_test"
      ]
    },
    {
      "cell_type": "markdown",
      "metadata": {
        "id": "vHX3A0yyarB-"
      },
      "source": [
        "## Uso de modelos preditivos para obtenção de predições (classificação ou regressão)\n",
        "\n"
      ]
    },
    {
      "cell_type": "markdown",
      "metadata": {
        "id": "D8VsThaDoc7s"
      },
      "source": [
        "#### Criação dos modelos"
      ]
    },
    {
      "cell_type": "code",
      "execution_count": null,
      "metadata": {
        "id": "7GbzUm8Oo0sc"
      },
      "outputs": [],
      "source": [
        "def my_models (random_state=42):  \n",
        "  models = {}\n",
        "  models['DT'] = DecisionTreeClassifier(random_state=random_state)\n",
        "  models['SVM'] = SVC(probability=True, random_state=random_state)\n",
        "  models['KNN'] = KNeighborsClassifier()\n",
        "  models['LogReg'] = LogisticRegression(multi_class='multinomial',solver='newton-cg')\n",
        "  models['NB'] = naive_bayes.GaussianNB()\n",
        "  models['SGD'] = linear_model.SGDClassifier()\n",
        "  models['RF'] = RandomForestClassifier(random_state=random_state)\n",
        "  models['GB'] = GradientBoostingClassifier(random_state=random_state)\n",
        "  return models"
      ]
    },
    {
      "cell_type": "code",
      "execution_count": null,
      "metadata": {
        "id": "iC5wGM_bfoo5"
      },
      "outputs": [],
      "source": [
        "algs = []\n",
        "resultados_train = []\n",
        "resultados_test = []\n",
        "k = 5\n",
        "models = my_models()\n",
        "for models_str in models.keys():\n",
        "    model = models[models_str]\n",
        "\n",
        "    # Treinando o model\n",
        "    model.fit(X_train, y_train)\n",
        "    model.fit(X_test, y_test)\n",
        "\n",
        "    # Predizendo  \n",
        "    y_pred_train = model.predict(X_train)\n",
        "    y_pred_test = model.predict(X_test)\n",
        "\n",
        "    # Avaliando o modelo\n",
        "    acuracia_train = model.score(X_train, y_train)\n",
        "    acuracia_test = model.score(X_test, y_test)\n",
        "    \n",
        "    # Avaliando o modelo\n",
        "    acuracia_train = accuracy_score(y_train, y_pred_train)\n",
        "    acuracia_test = accuracy_score(y_test, y_pred_test)\n",
        "\n",
        "    algs.append(models_str)\n",
        "    resultados_train.append(round(acuracia_train, 2))\n",
        "    resultados_test.append(round(acuracia_test, 2))\n",
        "\n",
        "df_result = pd.DataFrame({'algs': algs, 'acc_train': resultados_train, 'acc_test': resultados_test })\n",
        "df_result"
      ]
    },
    {
      "cell_type": "code",
      "execution_count": null,
      "metadata": {
        "id": "W7mYgXPitKvZ"
      },
      "outputs": [],
      "source": [
        "df_result.sort_values('acc_test', ascending=False)"
      ]
    },
    {
      "cell_type": "markdown",
      "metadata": {
        "id": "zE2dq5uVarEI"
      },
      "source": [
        "### Usar validação cruzada com k-Fold sobre o conjunto de treino.\n",
        "\n"
      ]
    },
    {
      "cell_type": "markdown",
      "metadata": {
        "id": "Qf04CRhrpIer"
      },
      "source": [
        "#### VALIDAÇÃO CRUZADA K-FOLD"
      ]
    },
    {
      "cell_type": "code",
      "execution_count": null,
      "metadata": {
        "id": "XmlbQF26oWa-"
      },
      "outputs": [],
      "source": [
        "dict_scores = {}\n",
        "accuracy_scores = {}\n",
        "tree_rmse_scores = {}\n",
        "algs = []\n",
        "resultados_train = []\n",
        "resultados_test = []\n",
        "k = 5\n",
        "models = my_models()\n",
        "for models_str in models.keys():\n",
        "    model = models[models_str]\n",
        "    \n",
        "    # Validação cruzada \n",
        "    dict_scores[models_str] = cross_val_score(model, X_train, y_train, cv=k, scoring='accuracy')\n",
        "    scores = dict_scores[models_str] \n",
        "    accuracy_scores[models_str] = np.mean(scores)\n",
        "\n",
        "    # Treinando o model\n",
        "    model.fit(X_train, y_train)\n",
        "    model.fit(X_test, y_test)\n",
        "\n",
        "    # Predizendo  \n",
        "    y_pred_train = model.predict(X_train)\n",
        "    y_pred_test = model.predict(X_test)\n",
        "\n",
        "    # Avaliando o modelo\n",
        "    acuracia_train = model.score(X_train, y_train)\n",
        "    acuracia_test = model.score(X_test, y_test)\n",
        "    \n",
        "    # Avaliando o modelo\n",
        "    acuracia_train = accuracy_score(y_train, y_pred_train)\n",
        "    acuracia_test = accuracy_score(y_test, y_pred_test)\n",
        "\n",
        "    algs.append(models_str)\n",
        "    resultados_train.append(round(acuracia_train, 2))\n",
        "    resultados_test.append(round(acuracia_test, 2))\n",
        "\n",
        "df_result = pd.DataFrame({'algs': algs, 'acc_train': resultados_train, 'acc_test': resultados_test })\n",
        "df_result"
      ]
    },
    {
      "cell_type": "code",
      "execution_count": null,
      "metadata": {
        "id": "SKPPGuY8dV5M"
      },
      "outputs": [],
      "source": [
        "best_model_key = max(accuracy_scores, key = accuracy_scores.get)\n",
        "print(best_model_key)"
      ]
    },
    {
      "cell_type": "code",
      "execution_count": null,
      "metadata": {
        "id": "AzODI03Dpoxq"
      },
      "outputs": [],
      "source": [
        "df_result.sort_values('acc_test', ascending=False)"
      ]
    },
    {
      "cell_type": "code",
      "execution_count": null,
      "metadata": {
        "id": "gxqAsasJp3nB"
      },
      "outputs": [],
      "source": [
        "df_result.plot(x='algs', y='acc_train', kind='bar');"
      ]
    },
    {
      "cell_type": "code",
      "execution_count": null,
      "metadata": {
        "id": "0betwa6oqDMl"
      },
      "outputs": [],
      "source": [
        "df_result.plot(x='algs', y='acc_test', kind='bar');"
      ]
    },
    {
      "cell_type": "markdown",
      "metadata": {
        "id": "ULDm23TzarSK"
      },
      "source": [
        "### Comparar resultados com e sem escalonamento de características (features).\n",
        "\n"
      ]
    },
    {
      "cell_type": "markdown",
      "metadata": {
        "id": "Hj9IGlYE7iej"
      },
      "source": [
        "**ESCALONAMENTO DE FEATURES**"
      ]
    },
    {
      "cell_type": "markdown",
      "metadata": {
        "id": "YzbAsxHS58sx"
      },
      "source": [
        "#### MinMax"
      ]
    },
    {
      "cell_type": "code",
      "execution_count": null,
      "metadata": {
        "id": "YTjqDf3E8GgB"
      },
      "outputs": [],
      "source": [
        "X_minMax = X.copy()\n",
        "X_minMax = MinMaxScaler().fit_transform(X_minMax)"
      ]
    },
    {
      "cell_type": "code",
      "execution_count": null,
      "metadata": {
        "id": "wrKNwb5u8Njj"
      },
      "outputs": [],
      "source": [
        "# Dividindo em conjunto de train e test\n",
        "X_train, X_test, y_train, y_test = train_test_split(X_minMax, y, train_size=0.8, random_state=42, stratify=y)\n",
        "X_train.shape, X_test.shape"
      ]
    },
    {
      "cell_type": "code",
      "execution_count": null,
      "metadata": {
        "id": "-l0b_GFP6RXt"
      },
      "outputs": [],
      "source": [
        "dict_scores = {}\n",
        "accuracy_scores = {}\n",
        "tree_rmse_scores = {}\n",
        "algs = []\n",
        "resultados_train = []\n",
        "resultados_test = []\n",
        "k = 5\n",
        "models = my_models()\n",
        "for models_str in models.keys():\n",
        "    model = models[models_str]\n",
        "    \n",
        "    # Validação cruzada \n",
        "    dict_scores[models_str] = cross_val_score(model, X_train, y_train, cv=k, scoring='accuracy')\n",
        "    scores = dict_scores[models_str] \n",
        "    accuracy_scores[models_str] = np.mean(scores)\n",
        "\n",
        "    # Treinando o model\n",
        "    model.fit(X_train, y_train)\n",
        "    model.fit(X_test, y_test)\n",
        "\n",
        "    # Predizendo  \n",
        "    y_pred_train = model.predict(X_train)\n",
        "    y_pred_test = model.predict(X_test)\n",
        "\n",
        "    # Avaliando o modelo\n",
        "    acuracia_train = model.score(X_train, y_train)\n",
        "    acuracia_test = model.score(X_test, y_test)\n",
        "    \n",
        "    # Avaliando o modelo\n",
        "    acuracia_train = accuracy_score(y_train, y_pred_train)\n",
        "    acuracia_test = accuracy_score(y_test, y_pred_test)\n",
        "\n",
        "    algs.append(models_str)\n",
        "    resultados_train.append(round(acuracia_train, 2))\n",
        "    resultados_test.append(round(acuracia_test, 2))\n",
        "\n",
        "df_result = pd.DataFrame({'algs': algs, 'acc_train': resultados_train, 'acc_test': resultados_test })\n",
        "df_result"
      ]
    },
    {
      "cell_type": "code",
      "execution_count": null,
      "metadata": {
        "id": "bte_sUCW6RXu"
      },
      "outputs": [],
      "source": [
        "best_model_key = max(accuracy_scores, key = accuracy_scores.get)\n",
        "print(best_model_key)"
      ]
    },
    {
      "cell_type": "code",
      "execution_count": null,
      "metadata": {
        "id": "udJ_3wL96RXu"
      },
      "outputs": [],
      "source": [
        "df_result.sort_values('acc_test', ascending=False)"
      ]
    },
    {
      "cell_type": "code",
      "execution_count": null,
      "metadata": {
        "id": "q5msLw0W6RXv"
      },
      "outputs": [],
      "source": [
        "df_result.plot(x='algs', y='acc_train', kind='bar');"
      ]
    },
    {
      "cell_type": "code",
      "execution_count": null,
      "metadata": {
        "id": "Z-ybjwXh6RXv"
      },
      "outputs": [],
      "source": [
        "df_result.plot(x='algs', y='acc_test', kind='bar');"
      ]
    },
    {
      "cell_type": "markdown",
      "metadata": {
        "id": "o3SOjkFW6Dzc"
      },
      "source": [
        "#### StandardScaler"
      ]
    },
    {
      "cell_type": "code",
      "execution_count": null,
      "metadata": {
        "id": "JRkGgK9J-buw"
      },
      "outputs": [],
      "source": [
        "X_standard = X.copy()\n",
        "X_standard = StandardScaler().fit_transform(X_standard)"
      ]
    },
    {
      "cell_type": "code",
      "execution_count": null,
      "metadata": {
        "id": "IzaL8l_o-buw"
      },
      "outputs": [],
      "source": [
        "# Dividindo em conjunto de train e test\n",
        "X_train, X_test, y_train, y_test = train_test_split(X_standard, y, train_size=0.8, random_state=42, stratify=y)\n",
        "X_train.shape, X_test.shape"
      ]
    },
    {
      "cell_type": "code",
      "execution_count": null,
      "metadata": {
        "id": "PuTJCtxX6S5w"
      },
      "outputs": [],
      "source": [
        "dict_scores = {}\n",
        "accuracy_scores = {}\n",
        "tree_rmse_scores = {}\n",
        "algs = []\n",
        "resultados_train = []\n",
        "resultados_test = []\n",
        "k = 5\n",
        "models = my_models()\n",
        "for models_str in models.keys():\n",
        "    model = models[models_str]\n",
        "    \n",
        "    # Validação cruzada \n",
        "    dict_scores[models_str] = cross_val_score(model, X_train, y_train, cv=k, scoring='accuracy')\n",
        "    scores = dict_scores[models_str] \n",
        "    accuracy_scores[models_str] = np.mean(scores)\n",
        "\n",
        "    # Treinando o model\n",
        "    model.fit(X_train, y_train)\n",
        "    model.fit(X_test, y_test)\n",
        "\n",
        "    # Predizendo  \n",
        "    y_pred_train = model.predict(X_train)\n",
        "    y_pred_test = model.predict(X_test)\n",
        "\n",
        "    # Avaliando o modelo\n",
        "    acuracia_train = model.score(X_train, y_train)\n",
        "    acuracia_test = model.score(X_test, y_test)\n",
        "    \n",
        "    # Avaliando o modelo\n",
        "    acuracia_train = accuracy_score(y_train, y_pred_train)\n",
        "    acuracia_test = accuracy_score(y_test, y_pred_test)\n",
        "\n",
        "    algs.append(models_str)\n",
        "    resultados_train.append(round(acuracia_train, 2))\n",
        "    resultados_test.append(round(acuracia_test, 2))\n",
        "\n",
        "df_result = pd.DataFrame({'algs': algs, 'acc_train': resultados_train, 'acc_test': resultados_test })\n",
        "df_result"
      ]
    },
    {
      "cell_type": "code",
      "execution_count": null,
      "metadata": {
        "id": "s65ybyuC6S5x"
      },
      "outputs": [],
      "source": [
        "best_model_key = max(accuracy_scores, key = accuracy_scores.get)\n",
        "print(best_model_key)"
      ]
    },
    {
      "cell_type": "code",
      "execution_count": null,
      "metadata": {
        "id": "Bw7bP_f06S5y"
      },
      "outputs": [],
      "source": [
        "df_result.sort_values('acc_test', ascending=False)"
      ]
    },
    {
      "cell_type": "code",
      "execution_count": null,
      "metadata": {
        "id": "8XUoUwEM6S5z"
      },
      "outputs": [],
      "source": [
        "df_result.plot(x='algs', y='acc_train', kind='bar');"
      ]
    },
    {
      "cell_type": "code",
      "execution_count": null,
      "metadata": {
        "id": "t4Wj1QhJ6S5z"
      },
      "outputs": [],
      "source": [
        "df_result.plot(x='algs', y='acc_test', kind='bar');"
      ]
    },
    {
      "cell_type": "markdown",
      "metadata": {
        "id": "35egjQGnrk0u"
      },
      "source": [
        "### Usar Pipeline"
      ]
    },
    {
      "cell_type": "markdown",
      "metadata": {
        "id": "_8b3b5qVBXHK"
      },
      "source": [
        "**Pipeline MinMax**"
      ]
    },
    {
      "cell_type": "code",
      "execution_count": null,
      "metadata": {
        "colab": {
          "background_save": true
        },
        "id": "CLOw5qmyA9Qh"
      },
      "outputs": [],
      "source": [
        "dict_scores = {}\n",
        "accuracy_scores = {}\n",
        "tree_rmse_scores = {}\n",
        "algs = []\n",
        "resultados_train = []\n",
        "resultados_test = []\n",
        "k = 5\n",
        "models = my_models()\n",
        "\n",
        "for models_str in models.keys():\n",
        "    model = models[models_str]\n",
        "\n",
        "    # Pipeline\n",
        "    m = MinMaxScaler()\n",
        "    pipeline = Pipeline([('transformer', m), ('estimator', model)])\n",
        "    \n",
        "    # Validação cruzada \n",
        "    dict_scores[models_str] = cross_val_score(pipeline, X_train, y_train, cv=k, scoring='accuracy')\n",
        "    scores = dict_scores[models_str] \n",
        "    accuracy_scores[models_str] = np.mean(scores)\n",
        "    \n",
        "    # Treinando o model\n",
        "    model.fit(X_train, y_train)\n",
        "    model.fit(X_test, y_test)\n",
        "\n",
        "    # Predizendo  \n",
        "    y_pred_train = model.predict(X_train)\n",
        "    y_pred_test = model.predict(X_test)\n",
        "\n",
        "    # Avaliando o modelo\n",
        "    acuracia_train = model.score(X_train, y_train)\n",
        "    acuracia_test = model.score(X_test, y_test)\n",
        "    \n",
        "    # Avaliando o modelo\n",
        "    acuracia_train = accuracy_score(y_train, y_pred_train)\n",
        "    acuracia_test = accuracy_score(y_test, y_pred_test)\n",
        "\n",
        "    algs.append(models_str)\n",
        "    resultados_train.append(round(acuracia_train, 2))\n",
        "    resultados_test.append(round(acuracia_test, 2))\n",
        "\n",
        "df_result = pd.DataFrame({'algs': algs, 'acc_train': resultados_train, 'acc_test': resultados_test })\n",
        "df_result"
      ]
    },
    {
      "cell_type": "code",
      "execution_count": null,
      "metadata": {
        "colab": {
          "background_save": true
        },
        "id": "ofMC7NO2A9Q8"
      },
      "outputs": [],
      "source": [
        "best_model_key = max(accuracy_scores, key = accuracy_scores.get)\n",
        "print(best_model_key)"
      ]
    },
    {
      "cell_type": "code",
      "execution_count": null,
      "metadata": {
        "colab": {
          "background_save": true
        },
        "id": "6R75eoUmA9Q8"
      },
      "outputs": [],
      "source": [
        "df_result.sort_values('acc_test', ascending=False)"
      ]
    },
    {
      "cell_type": "code",
      "execution_count": null,
      "metadata": {
        "colab": {
          "background_save": true
        },
        "id": "Uv_2hqsbA9Q9"
      },
      "outputs": [],
      "source": [
        "df_result.plot(x='algs', y='acc_train', kind='bar');"
      ]
    },
    {
      "cell_type": "code",
      "execution_count": null,
      "metadata": {
        "colab": {
          "background_save": true
        },
        "id": "VdJiXU2hA9Q9"
      },
      "outputs": [],
      "source": [
        "df_result.plot(x='algs', y='acc_test', kind='bar');"
      ]
    },
    {
      "cell_type": "markdown",
      "metadata": {
        "id": "ZU0bAPydBgIo"
      },
      "source": [
        "**Pipeline StandarScaler**"
      ]
    },
    {
      "cell_type": "code",
      "execution_count": null,
      "metadata": {
        "colab": {
          "background_save": true
        },
        "id": "Bi-ruElPrMvF"
      },
      "outputs": [],
      "source": [
        "dict_scores = {}\n",
        "accuracy_scores = {}\n",
        "tree_rmse_scores = {}\n",
        "algs = []\n",
        "resultados_train = []\n",
        "resultados_test = []\n",
        "k = 5\n",
        "models = my_models()\n",
        "\n",
        "for models_str in models.keys():\n",
        "    model = models[models_str]\n",
        "\n",
        "    # Pipeline\n",
        "    s = StandardScaler()\n",
        "    pipeline = Pipeline([('transformer', s), ('estimator', model)])\n",
        "    \n",
        "    # Validação cruzada \n",
        "    dict_scores[models_str] = cross_val_score(pipeline, X_train, y_train, cv=k, scoring='accuracy')\n",
        "    scores = dict_scores[models_str] \n",
        "    accuracy_scores[models_str] = np.mean(scores)\n",
        "    \n",
        "    # Treinando o model\n",
        "    model.fit(X_train, y_train)\n",
        "    model.fit(X_test, y_test)\n",
        "\n",
        "    # Predizendo  \n",
        "    y_pred_train = model.predict(X_train)\n",
        "    y_pred_test = model.predict(X_test)\n",
        "\n",
        "    # Avaliando o modelo\n",
        "    acuracia_train = model.score(X_train, y_train)\n",
        "    acuracia_test = model.score(X_test, y_test)\n",
        "    \n",
        "    # Avaliando o modelo\n",
        "    acuracia_train = accuracy_score(y_train, y_pred_train)\n",
        "    acuracia_test = accuracy_score(y_test, y_pred_test)\n",
        "\n",
        "    algs.append(models_str)\n",
        "    resultados_train.append(round(acuracia_train, 2))\n",
        "    resultados_test.append(round(acuracia_test, 2))\n",
        "\n",
        "df_result = pd.DataFrame({'algs': algs, 'acc_train': resultados_train, 'acc_test': resultados_test })\n",
        "df_result"
      ]
    },
    {
      "cell_type": "code",
      "execution_count": null,
      "metadata": {
        "colab": {
          "background_save": true
        },
        "id": "2pw82gJ5rMvG"
      },
      "outputs": [],
      "source": [
        "best_model_key = max(accuracy_scores, key = accuracy_scores.get)\n",
        "print(best_model_key)"
      ]
    },
    {
      "cell_type": "code",
      "execution_count": null,
      "metadata": {
        "colab": {
          "background_save": true
        },
        "id": "ptpUif6JrMvG"
      },
      "outputs": [],
      "source": [
        "df_result.sort_values('acc_test', ascending=False)"
      ]
    },
    {
      "cell_type": "code",
      "execution_count": null,
      "metadata": {
        "colab": {
          "background_save": true
        },
        "id": "M0_n8S_1rMvG"
      },
      "outputs": [],
      "source": [
        "df_result.plot(x='algs', y='acc_train', kind='bar');"
      ]
    },
    {
      "cell_type": "code",
      "execution_count": null,
      "metadata": {
        "colab": {
          "background_save": true
        },
        "id": "tFjkwaANrMvH"
      },
      "outputs": [],
      "source": [
        "df_result.plot(x='algs', y='acc_test', kind='bar');"
      ]
    },
    {
      "cell_type": "markdown",
      "metadata": {
        "id": "5PQNrJKUarIQ"
      },
      "source": [
        "### Usar diferentes hiper-parâmetros para cada algoritmo escolhido.\n"
      ]
    },
    {
      "cell_type": "markdown",
      "metadata": {
        "id": "Vc_RDNkearWM"
      },
      "source": [
        "## Avaliação dos resultados através de métricas (RMSE para regressão e F1-Score para classificação) sobre o conjunto de treino e de teste.\n"
      ]
    },
    {
      "cell_type": "markdown",
      "metadata": {
        "id": "yMOHB2pTgtwP"
      },
      "source": [
        "#### Grid Search CV"
      ]
    },
    {
      "cell_type": "code",
      "execution_count": null,
      "metadata": {
        "colab": {
          "background_save": true
        },
        "id": "_IdSkeViQewc"
      },
      "outputs": [],
      "source": [
        "clf1 = GradientBoostingClassifier(random_state=42)"
      ]
    },
    {
      "cell_type": "code",
      "execution_count": null,
      "metadata": {
        "colab": {
          "background_save": true
        },
        "id": "29Csx7mQPb-k"
      },
      "outputs": [],
      "source": [
        "parameters = {\n",
        "    \"learning_rate\": [0.1, 0.05, 0.01, 0.005, 0.001],\n",
        "    \"max_depth\":[3, 5, 7, 9],\n",
        "    \"subsample\":[0.5, 0.8, 1],\n",
        "    \"n_estimators\":[10, 50, 100, 200, 400]\n",
        "}"
      ]
    },
    {
      "cell_type": "code",
      "execution_count": null,
      "metadata": {
        "id": "q1k7FbFIOyaW"
      },
      "outputs": [],
      "source": [
        "gs = GridSearchCV(clf1, parameters, cv=3, n_jobs=-1, scoring='f1').fit(X_train, y_train)"
      ]
    },
    {
      "cell_type": "code",
      "execution_count": null,
      "metadata": {
        "id": "vUwEczWXO0_1"
      },
      "outputs": [],
      "source": [
        "# Best performing model and its corresponding hyperparameters\n",
        "gs.best_params_"
      ]
    },
    {
      "cell_type": "code",
      "execution_count": null,
      "metadata": {
        "id": "2lI72RlSPwQI"
      },
      "outputs": [],
      "source": [
        "# ROC-AUC score for the best model\n",
        "gs.best_score_"
      ]
    },
    {
      "cell_type": "code",
      "execution_count": null,
      "metadata": {
        "id": "GdDDKahCD7n0"
      },
      "outputs": [],
      "source": [
        "# Test data performance\n",
        "print(\"Test Precision:\",precision_score(gs.predict(X_test), y_test))\n",
        "print(\"Test Recall:\",recall_score(gs.predict(X_test), y_test))\n",
        "print(\"Test ROC AUC Score:\",roc_auc_score(gs.predict(X_test), y_test))"
      ]
    },
    {
      "cell_type": "markdown",
      "metadata": {
        "id": "qxZJpGIVgqHe"
      },
      "source": [
        "#### Randomized Search CV"
      ]
    },
    {
      "cell_type": "code",
      "execution_count": null,
      "metadata": {
        "id": "F-5_ytOQiyux"
      },
      "outputs": [],
      "source": [
        "clf1 = GradientBoostingClassifier(random_state=42)"
      ]
    },
    {
      "cell_type": "code",
      "execution_count": null,
      "metadata": {
        "id": "-UAZneXOh8GR"
      },
      "outputs": [],
      "source": [
        "parameters = {\n",
        "    \"learning_rate\": [0.1, 0.05, 0.01, 0.005, 0.001],\n",
        "    \"max_depth\":[3, 5, 7, 9],\n",
        "    \"subsample\":[0.5, 0.8, 1],\n",
        "    \"n_estimators\":[10, 50, 100, 200, 400]\n",
        "}"
      ]
    },
    {
      "cell_type": "code",
      "execution_count": null,
      "metadata": {
        "id": "NVbvmLDqP3OB"
      },
      "outputs": [],
      "source": [
        "rs = RandomizedSearchCV(cf1, parameters, scoring='f1', cv=5, refit=False).fit(X_train, y_train)"
      ]
    },
    {
      "cell_type": "code",
      "execution_count": null,
      "metadata": {
        "id": "geVKpyCihEIM"
      },
      "outputs": [],
      "source": [
        "print(\"Precision:\",precision_score(rs.predict(X_test), y_test))\n",
        "print(\"Recall:\",recall_score(rs.predict(X_test), y_test))\n",
        "print(\"ROC AUC Score:\",roc_auc_score(rs.predict(X_test), y_test))"
      ]
    },
    {
      "cell_type": "code",
      "execution_count": null,
      "metadata": {
        "id": "fdCsQiGShApm"
      },
      "outputs": [],
      "source": [
        "rs.best_params_"
      ]
    },
    {
      "cell_type": "code",
      "execution_count": null,
      "metadata": {
        "id": "M01XjqdrhBpr"
      },
      "outputs": [],
      "source": [
        "rs.best_score_"
      ]
    }
  ],
  "metadata": {
    "accelerator": "GPU",
    "colab": {
      "authorship_tag": "ABX9TyOgmPi17kW2WXC7XYynyn73",
      "collapsed_sections": [],
      "include_colab_link": true,
      "name": "Trabalho01_Joao_Victor_Aquino_Correia.ipynb",
      "provenance": []
    },
    "kernelspec": {
      "display_name": "Python 3.10.4 ('my_env': venv)",
      "language": "python",
      "name": "python3"
    },
    "language_info": {
      "name": "python",
      "version": "3.10.4"
    },
    "vscode": {
      "interpreter": {
        "hash": "1ae2aa5f8c95b5cdf54b1cf8d9a84e6c54d5f8b599c6441f90284e79fab742b1"
      }
    }
  },
  "nbformat": 4,
  "nbformat_minor": 0
}
