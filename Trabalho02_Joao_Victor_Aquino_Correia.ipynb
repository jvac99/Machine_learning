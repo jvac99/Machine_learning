{
  "nbformat": 4,
  "nbformat_minor": 0,
  "metadata": {
    "colab": {
      "name": "Trabalho02_Joao_Victor_Aquino_Correia",
      "provenance": [],
      "collapsed_sections": [],
      "authorship_tag": "ABX9TyOTLzW6IwYKgROumx0+SsED",
      "include_colab_link": true
    },
    "kernelspec": {
      "name": "python3",
      "display_name": "Python 3"
    },
    "language_info": {
      "name": "python"
    }
  },
  "cells": [
    {
      "cell_type": "markdown",
      "metadata": {
        "id": "view-in-github",
        "colab_type": "text"
      },
      "source": [
        "<a href=\"https://colab.research.google.com/github/jvac99/Machine_learning/blob/main/Trabalho02_Joao_Victor_Aquino_Correia.ipynb\" target=\"_parent\"><img src=\"https://colab.research.google.com/assets/colab-badge.svg\" alt=\"Open In Colab\"/></a>"
      ]
    },
    {
      "cell_type": "markdown",
      "source": [
        "# TP2 - Trabalho Prático 2 - Submissão até 11/07 (segunda) - Apresentação em 12/07 (terça)"
      ],
      "metadata": {
        "id": "fy0wv7m684w2"
      }
    },
    {
      "cell_type": "markdown",
      "source": [
        "Resolva um problema de Clusterização em um Jupyter Notebook e envie sua resolução (arquivo .ipynb + conjunto de dados).\n",
        "\n",
        "* O conjunto de dados deve ter no mínimo 6 características (features) e 1000 amostras.\n",
        "\n",
        "A seleção do conjunto de dados a ser usado deve ser preenchida na seguinte planilha, sendo que deve-se observar o não uso de um conjunto de dados já usado por outro aluno.\n",
        "\n",
        "* Seleção de Conjuntos de Dados para Trabalho Prático 2 de Aprendizado de Máquina - 2022.1\n",
        "\n",
        "A resolução deve conter:\n",
        "\n",
        "* Importação dos dados\n",
        "* Análise dos dados\n",
        "* Pré-processamento\n",
        "* Uso de técnicas de clusterização\n",
        "* Usar k-Means, DBScan e Clusterização Hierárquica\n",
        "* Avaliação dos resultados\n",
        "* Avaliação dos resultados\n",
        "* Apresentação dos resultados\n",
        "* Apresentação do trabalho (obrigatório)"
      ],
      "metadata": {
        "id": "IT5bEjXE9Hov"
      }
    },
    {
      "cell_type": "code",
      "source": [
        ""
      ],
      "metadata": {
        "id": "BIci2mIl88D9"
      },
      "execution_count": null,
      "outputs": []
    }
  ]
}